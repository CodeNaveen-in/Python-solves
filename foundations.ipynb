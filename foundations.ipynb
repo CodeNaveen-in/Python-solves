{
 "cells": [
  {
   "cell_type": "markdown",
   "id": "a44fbc6d",
   "metadata": {},
   "source": [
    "# Foundations \n",
    "This file is a culimation of all beginner level code to understand python and get started with it."
   ]
  },
  {
   "cell_type": "markdown",
   "id": "077188e1",
   "metadata": {},
   "source": [
    "# Day 1 : Installation I/O and Variables"
   ]
  },
  {
   "cell_type": "markdown",
   "id": "76e8644d",
   "metadata": {},
   "source": [
    "## Input"
   ]
  },
  {
   "cell_type": "code",
   "execution_count": 1,
   "id": "438756e0",
   "metadata": {},
   "outputs": [
    {
     "name": "stdout",
     "output_type": "stream",
     "text": [
      "Hello, Naveen ! Welcome!\n",
      "The total number of students :  12\n",
      "Hello, Naveen ! Welcome!\n",
      "12\n"
     ]
    }
   ],
   "source": [
    "# Taking inputs\n",
    "name = input(\"Enter your name: \")\n",
    "print(\"Hello,\", name, \"! Welcome!\")\n",
    "\n",
    "# Taking multiple inputs\n",
    "x, y, z = input(\"Enter three values\").split()\n",
    "print(\"The total number of students : \", x)\n",
    "name = input(\"Enter your name: \")\n",
    "print(\"Hello,\", name, \"! Welcome!\")\n",
    "\n",
    "# Typecasting input into int\n",
    "n = int(input(\"How many roses?: \"))\n",
    "print(n)"
   ]
  },
  {
   "cell_type": "markdown",
   "id": "0b490d97",
   "metadata": {},
   "source": [
    "## Output"
   ]
  },
  {
   "cell_type": "code",
   "execution_count": 2,
   "id": "1fb67342",
   "metadata": {},
   "outputs": [
    {
     "name": "stdout",
     "output_type": "stream",
     "text": [
      "<class 'str'>\n",
      "<class 'int'>\n",
      "<class 'float'>\n",
      "<class 'tuple'>\n",
      "<class 'list'>\n",
      "<class 'dict'>\n"
     ]
    }
   ],
   "source": [
    "# Finding Data Types\n",
    "a = \"Hello World\"\n",
    "b = 10\n",
    "c = 11.22\n",
    "d = (\"Geeks\", \"for\", \"Geeks\")\n",
    "e = [\"Geeks\", \"for\", \"Geeks\"]\n",
    "f = {\"Geeks\": 1, \"for\":2, \"Geeks\":3}\n",
    "\n",
    "\n",
    "print(type(a))\n",
    "print(type(b))\n",
    "print(type(c))\n",
    "print(type(d))\n",
    "print(type(e))\n",
    "print(type(f))"
   ]
  },
  {
   "cell_type": "code",
   "execution_count": 4,
   "id": "34bd3f28",
   "metadata": {},
   "outputs": [
    {
     "name": "stdout",
     "output_type": "stream",
     "text": [
      "Amount: $150.75\n",
      "Python@GeeksforGeeks\n",
      "GFG\n",
      "09-12-2016\n",
      "pratik@geeksforgeeks\n",
      "Hello, My name is Tushar and I'm 23 years old.\n",
      "The sum is 17\n"
     ]
    }
   ],
   "source": [
    "# Output formatting\n",
    "\n",
    "# Using format()\n",
    "amount = 150.75\n",
    "print(\"Amount: ${:.2f}\".format(amount))\n",
    "\n",
    "# Using sep and end\n",
    "# end Parameter with '@'\n",
    "print(\"Python\", end='@')\n",
    "print(\"GeeksforGeeks\")\n",
    "# Seprating with Comma\n",
    "print('G', 'F', 'G', sep='')\n",
    "# for formatting a date\n",
    "print('09', '12', '2016', sep='-')\n",
    "# another example\n",
    "print('pratik', 'geeksforgeeks', sep='@')\n",
    "\n",
    "# Using fstring\n",
    "name = 'Tushar'\n",
    "age = 23\n",
    "print(f\"Hello, My name is {name} and I'm {age} years old.\")\n",
    "\n",
    "# Using % operator\n",
    "# Taking input from the user\n",
    "num = int(input(\"Enter a value: \"))\n",
    "add = num + 5\n",
    "# Output\n",
    "print(\"The sum is %d\" %add)\n"
   ]
  },
  {
   "cell_type": "markdown",
   "id": "40c015c5",
   "metadata": {},
   "source": [
    "## Variable"
   ]
  },
  {
   "cell_type": "code",
   "execution_count": 5,
   "id": "afb17fc5",
   "metadata": {},
   "outputs": [
    {
     "name": "stdout",
     "output_type": "stream",
     "text": [
      "21 lilac 90\n"
     ]
    }
   ],
   "source": [
    "# Variables usage\n",
    "age = 21\n",
    "_colour = \"lilac\"\n",
    "total_score = 90\n",
    "print(age, _colour, total_score)"
   ]
  },
  {
   "cell_type": "code",
   "execution_count": 6,
   "id": "3ede3857",
   "metadata": {},
   "outputs": [
    {
     "name": "stdout",
     "output_type": "stream",
     "text": [
      "5 3.14 Hi\n",
      "Now a string\n",
      "10 10 10\n",
      "1 1.25 Python\n"
     ]
    }
   ],
   "source": [
    "# Assigning values\n",
    "\n",
    "#Basic Assignment\n",
    "x = 5\n",
    "y = 3.14\n",
    "z = \"Hi\"\n",
    "print(x,y,z)\n",
    "\n",
    "#Dynamic Typing\n",
    "x = 10\n",
    "x = \"Now a string\"\n",
    "print(x)\n",
    "\n",
    "# Multiple assignment\n",
    "a = b = c = 10\n",
    "print (a, b, c)\n",
    "x, y, z = 1, 1.25, \"Python\"\n",
    "print(x, y, z)"
   ]
  },
  {
   "cell_type": "markdown",
   "id": "b8087474",
   "metadata": {},
   "source": [
    "## Keyword"
   ]
  },
  {
   "cell_type": "code",
   "execution_count": 7,
   "id": "93936ca3",
   "metadata": {},
   "outputs": [
    {
     "name": "stdout",
     "output_type": "stream",
     "text": [
      "10\n"
     ]
    }
   ],
   "source": [
    "# Deleting a keyword\n",
    "\n",
    "# Assigning value to variable\n",
    "x = 10\n",
    "print(x) \n",
    "# Removing the variable using del\n",
    "del x\n",
    "# Trying to print x after deletion will raise an error\n",
    "# print(x)  # Uncommenting this line will raise NameError: name 'x' is not defined"
   ]
  },
  {
   "cell_type": "code",
   "execution_count": 8,
   "id": "f73e6d1f",
   "metadata": {},
   "outputs": [
    {
     "name": "stdout",
     "output_type": "stream",
     "text": [
      "10 5\n",
      "Length of the word: 6\n"
     ]
    }
   ],
   "source": [
    "# Practical Examples\n",
    "#Swapping 2 variables\n",
    "a, b = 5, 10\n",
    "a, b = b, a\n",
    "print(a, b)\n",
    "\n",
    "# Counting characters\n",
    "word = \"Python\"\n",
    "length = len(word)\n",
    "print(\"Length of the word:\", length)"
   ]
  },
  {
   "cell_type": "code",
   "execution_count": 11,
   "id": "11b66e5d",
   "metadata": {},
   "outputs": [
    {
     "name": "stdout",
     "output_type": "stream",
     "text": [
      "The list of keywords is : \n",
      "['False', 'None', 'True', 'and', 'as', 'assert', 'async', 'await', 'break', 'class', 'continue', 'def', 'del', 'elif', 'else', 'except', 'finally', 'for', 'from', 'global', 'if', 'import', 'in', 'is', 'lambda', 'nonlocal', 'not', 'or', 'pass', 'raise', 'return', 'try', 'while', 'with', 'yield']\n"
     ]
    }
   ],
   "source": [
    "# Kwywords are words with reserve meaning\n",
    "import keyword\n",
    "\n",
    "# printing all keywords at once using \"kwlist()\"\n",
    "print(\"The list of keywords is : \")\n",
    "print(keyword.kwlist)\n",
    "\n",
    "# Identifiers are names given to variables, classes etc."
   ]
  },
  {
   "cell_type": "markdown",
   "id": "efc532f8",
   "metadata": {},
   "source": [
    "# Day 2 Python Data Types and Opearators"
   ]
  },
  {
   "cell_type": "markdown",
   "id": "4c7ad6be",
   "metadata": {},
   "source": [
    "## Operators\n",
    "1. Airthmetic\n",
    "2. Conditional\n",
    "3. Logical\n",
    "4. Unary\n",
    "5. Binary\n",
    "6. Ternary"
   ]
  },
  {
   "cell_type": "code",
   "execution_count": 15,
   "id": "8a5f3d89",
   "metadata": {},
   "outputs": [
    {
     "name": "stdout",
     "output_type": "stream",
     "text": [
      "Addition: 19\n",
      "Subtraction: 11\n",
      "Multiplication: 60\n",
      "Division: 3.75\n",
      "Floor Division: 3\n",
      "Modulus: 3\n",
      "Exponentiation: 50625\n"
     ]
    }
   ],
   "source": [
    "# Airthmetic Operators - Perform basic mathematical opeartions\n",
    "a = 15\n",
    "b = 4\n",
    "\n",
    "# Addition\n",
    "print(\"Addition:\", a + b)  \n",
    "\n",
    "# Subtraction\n",
    "print(\"Subtraction:\", a - b) \n",
    "\n",
    "# Multiplication\n",
    "print(\"Multiplication:\", a * b)  \n",
    "\n",
    "# Division\n",
    "print(\"Division:\", a / b) \n",
    "\n",
    "# Floor Division\n",
    "print(\"Floor Division:\", a // b)  \n",
    "\n",
    "# Modulus\n",
    "print(\"Modulus:\", a % b) \n",
    "\n",
    "# Exponentiation\n",
    "print(\"Exponentiation:\", a ** b)"
   ]
  },
  {
   "cell_type": "code",
   "execution_count": 16,
   "id": "9c64afeb",
   "metadata": {},
   "outputs": [
    {
     "name": "stdout",
     "output_type": "stream",
     "text": [
      "False\n",
      "True\n",
      "False\n",
      "True\n",
      "False\n",
      "True\n"
     ]
    }
   ],
   "source": [
    "# Compasrison Operators - It comapares the values relation and give answer in boolean\n",
    "a = 13\n",
    "b = 33\n",
    "\n",
    "print(a > b)\n",
    "print(a < b)\n",
    "print(a == b)\n",
    "print(a != b)\n",
    "print(a >= b)\n",
    "print(a <= b)"
   ]
  },
  {
   "cell_type": "code",
   "execution_count": 17,
   "id": "390bb1c1",
   "metadata": {},
   "outputs": [
    {
     "name": "stdout",
     "output_type": "stream",
     "text": [
      "False\n",
      "True\n",
      "False\n"
     ]
    }
   ],
   "source": [
    "# Logical Opearators - Perform logical AND, OR and NOT and gives answer in boolean\n",
    "a = True\n",
    "b = False\n",
    "print(a and b)\n",
    "print(a or b)\n",
    "print(not a)"
   ]
  },
  {
   "cell_type": "code",
   "execution_count": 18,
   "id": "6f766477",
   "metadata": {},
   "outputs": [
    {
     "name": "stdout",
     "output_type": "stream",
     "text": [
      "0\n",
      "14\n",
      "-11\n",
      "14\n",
      "2\n",
      "40\n"
     ]
    }
   ],
   "source": [
    "# Bitwise Operators - Acts on bits and perform bit by bit operators\n",
    "a = 10\n",
    "b = 4\n",
    "\n",
    "print(a & b)\n",
    "print(a | b)\n",
    "print(~a)\n",
    "print(a ^ b)\n",
    "print(a >> 2)\n",
    "print(a << 2)"
   ]
  },
  {
   "cell_type": "code",
   "execution_count": 19,
   "id": "83319a0e",
   "metadata": {},
   "outputs": [
    {
     "name": "stdout",
     "output_type": "stream",
     "text": [
      "10\n",
      "20\n",
      "10\n",
      "100\n",
      "102400\n"
     ]
    }
   ],
   "source": [
    "# Assignment Operators - Assign values to the variables\n",
    "a = 10\n",
    "b = a\n",
    "print(b)\n",
    "b += a\n",
    "print(b)\n",
    "b -= a\n",
    "print(b)\n",
    "b *= a\n",
    "print(b)\n",
    "b <<= a\n",
    "print(b)"
   ]
  },
  {
   "cell_type": "code",
   "execution_count": 20,
   "id": "d6973327",
   "metadata": {},
   "outputs": [
    {
     "name": "stdout",
     "output_type": "stream",
     "text": [
      "True\n",
      "True\n"
     ]
    }
   ],
   "source": [
    "# Identity Operators - Used to check if two values are located on the same aprt of the memory\n",
    "a = 10\n",
    "b = 20\n",
    "c = a\n",
    "\n",
    "print(a is not b)\n",
    "print(a is c)"
   ]
  },
  {
   "cell_type": "code",
   "execution_count": 84,
   "id": "11b4449c",
   "metadata": {},
   "outputs": [
    {
     "name": "stdout",
     "output_type": "stream",
     "text": [
      "x is NOT present in given list\n",
      "y is present in given list\n"
     ]
    }
   ],
   "source": [
    "# Membership Opearators - used to check whether a value or variable is in a sequence or not\n",
    "x = 24\n",
    "y = 20\n",
    "my_list = [10, 20, 30, 40, 50]\n",
    "\n",
    "if (x not in my_list):\n",
    "    print(\"x is NOT present in given list\")\n",
    "else:\n",
    "    print(\"x is present in given list\")\n",
    "\n",
    "if (y in my_list):\n",
    "    print(\"y is present in given list\")\n",
    "else:\n",
    "    print(\"y is NOT present in given list\")"
   ]
  },
  {
   "cell_type": "code",
   "execution_count": 22,
   "id": "247b4d42",
   "metadata": {},
   "outputs": [
    {
     "name": "stdout",
     "output_type": "stream",
     "text": [
      "10\n"
     ]
    }
   ],
   "source": [
    "# Ternary operator - called conditional expressions that evaluate something being true or false\n",
    "a, b = 10, 20\n",
    "min = a if a < b else b\n",
    "\n",
    "print(min)"
   ]
  },
  {
   "cell_type": "code",
   "execution_count": 23,
   "id": "2cbba370",
   "metadata": {},
   "outputs": [
    {
     "name": "stdout",
     "output_type": "stream",
     "text": [
      "610\n",
      "Hello! Welcome.\n",
      "100.0\n",
      "6\n",
      "0\n",
      "512\n"
     ]
    }
   ],
   "source": [
    "# Operator Precedance - Priority of operator\n",
    "expr = 10 + 20 * 30\n",
    "print(expr)\n",
    "name = \"Alex\"\n",
    "age = 0\n",
    "\n",
    "if name == \"Alex\" or name == \"John\" and age >= 2:\n",
    "    print(\"Hello! Welcome.\")\n",
    "else:\n",
    "    print(\"Good Bye!!\")\n",
    "\n",
    "# Operator Associativity - used to deternmine the precedance of code \n",
    "print(100 / 10 * 10)\n",
    "print(5 - 2 + 3)\n",
    "print(5 - (2 + 3))\n",
    "print(2 ** 3 ** 2)"
   ]
  },
  {
   "cell_type": "code",
   "execution_count": 24,
   "id": "092a25d9",
   "metadata": {},
   "outputs": [
    {
     "name": "stdout",
     "output_type": "stream",
     "text": [
      "Sum: 7\n",
      "Difference: 3\n",
      "Product: 10\n",
      "Quotient: 2.5\n",
      "Remainder: 1\n"
     ]
    }
   ],
   "source": [
    "# Excercise Questions 1 - Code to imlement airthmatic operators\n",
    "num1 = 5\n",
    "num2 = 2\n",
    "\n",
    "sum = num1 + num2\n",
    "difference = num1 - num2\n",
    "product = num1 * num2\n",
    "quotient = num1 / num2\n",
    "remainder = num1 % num2\n",
    "\n",
    "print(\"Sum:\", sum)\n",
    "print(\"Difference:\", difference)\n",
    "print(\"Product:\", product)\n",
    "print(\"Quotient:\", quotient)\n",
    "print(\"Remainder:\", remainder)"
   ]
  },
  {
   "cell_type": "code",
   "execution_count": 25,
   "id": "19702a7b",
   "metadata": {},
   "outputs": [
    {
     "name": "stdout",
     "output_type": "stream",
     "text": [
      "The second number is greater.\n"
     ]
    }
   ],
   "source": [
    "# Excercise Questions 2 - Implementing Comparisons on Integer\n",
    "num1 = 30\n",
    "num2 = 35\n",
    "\n",
    "if num1 > num2:\n",
    "    print(\"The first number is greater.\")\n",
    "elif num1 < num2:\n",
    "    print(\"The second number is greater.\")\n",
    "else:\n",
    "    print(\"The numbers are equal.\")"
   ]
  },
  {
   "cell_type": "markdown",
   "id": "cdd9f4cd",
   "metadata": {},
   "source": [
    "## Data Types\n",
    "1. Numeric - int, float, complex\n",
    "2. Sequence Type - string, list, tuple\n",
    "3. Mapping Type - dict\n",
    "4. Boolean - bool\n",
    "5. Set Type - set, frozenset\n",
    "6. Binary Types - bytes, bytearray, memoryview"
   ]
  },
  {
   "cell_type": "code",
   "execution_count": 26,
   "id": "de07a8c7",
   "metadata": {},
   "outputs": [
    {
     "name": "stdout",
     "output_type": "stream",
     "text": [
      "<class 'int'>\n",
      "<class 'float'>\n",
      "<class 'complex'>\n"
     ]
    }
   ],
   "source": [
    "# Numerical Data Types\n",
    "a = 5\n",
    "print(type(a))\n",
    "\n",
    "b = 5.0\n",
    "print(type(b))\n",
    "\n",
    "c = 2 + 4j\n",
    "print(type(c))"
   ]
  },
  {
   "cell_type": "code",
   "execution_count": 27,
   "id": "b2aa8fe2",
   "metadata": {},
   "outputs": [
    {
     "name": "stdout",
     "output_type": "stream",
     "text": [
      "Welcome to the Geeks World\n",
      "<class 'str'>\n",
      "e\n",
      "l\n",
      "d\n",
      "[1, 2, 3]\n",
      "['Geeks', 'For', 'Geeks', 4, 5]\n",
      "Accessing element from the list\n",
      "Geeks\n",
      "Geeks\n",
      "Accessing element using negative indexing\n",
      "Geeks\n",
      "Geeks\n",
      "\n",
      "Tuple with the use of String:  ('Geeks', 'For')\n",
      "1\n",
      "5\n",
      "3\n"
     ]
    }
   ],
   "source": [
    "# Sequence Data Types\n",
    "\n",
    "# String\n",
    "s = 'Welcome to the Geeks World'\n",
    "print(s)\n",
    "# check data type \n",
    "print(type(s))\n",
    "# access string with index\n",
    "print(s[1])\n",
    "print(s[2])\n",
    "print(s[-1])\n",
    "\n",
    "# List\n",
    "# Empty list\n",
    "a = []\n",
    "# list with int values\n",
    "a = [1, 2, 3]\n",
    "print(a)\n",
    "# list with mixed int and string\n",
    "b = [\"Geeks\", \"For\", \"Geeks\", 4, 5]\n",
    "print(b)\n",
    "a = [\"Geeks\", \"For\", \"Geeks\"]\n",
    "print(\"Accessing element from the list\")\n",
    "print(a[0])\n",
    "print(a[2])\n",
    "print(\"Accessing element using negative indexing\")\n",
    "print(a[-1])\n",
    "print(a[-3])\n",
    "\n",
    "# Tuple\n",
    "# initiate empty tuple\n",
    "tup1 = ()\n",
    "tup2 = ('Geeks', 'For')\n",
    "print(\"\\nTuple with the use of String: \", tup2)\n",
    "tup1 = tuple([1, 2, 3, 4, 5])\n",
    "# access tuple items\n",
    "print(tup1[0])\n",
    "print(tup1[-1])\n",
    "print(tup1[-3])"
   ]
  },
  {
   "cell_type": "code",
   "execution_count": 28,
   "id": "dcca1317",
   "metadata": {},
   "outputs": [
    {
     "name": "stdout",
     "output_type": "stream",
     "text": [
      "<class 'bool'>\n",
      "<class 'bool'>\n"
     ]
    }
   ],
   "source": [
    "# Boolean Data Type\n",
    "print(type(True))\n",
    "print(type(False))"
   ]
  },
  {
   "cell_type": "code",
   "execution_count": 29,
   "id": "671ea78d",
   "metadata": {},
   "outputs": [
    {
     "name": "stdout",
     "output_type": "stream",
     "text": [
      "Set with the use of String:  {'F', 'r', 'e', 'o', 'k', 's', 'G'}\n",
      "Set with the use of List:  {'For', 'Geeks'}\n",
      "{'For', 'Geeks'}\n",
      "For Geeks True\n"
     ]
    }
   ],
   "source": [
    "# Set Data Type\n",
    "# initializing empty set\n",
    "s1 = set()\n",
    "s1 = set(\"GeeksForGeeks\")\n",
    "print(\"Set with the use of String: \", s1)\n",
    "s2 = set([\"Geeks\", \"For\", \"Geeks\"])\n",
    "print(\"Set with the use of List: \", s2)\n",
    "\n",
    "# As set are unordered you need to loop over them\n",
    "set1 = set([\"Geeks\", \"For\", \"Geeks\"])\n",
    "print(set1)\n",
    "# loop through set\n",
    "for i in set1:\n",
    "    print(i, end=\" \")\n",
    "# check if item exist in set    \n",
    "print(\"Geeks\" in set1)"
   ]
  },
  {
   "cell_type": "code",
   "execution_count": 32,
   "id": "33aecde8",
   "metadata": {},
   "outputs": [
    {
     "name": "stdout",
     "output_type": "stream",
     "text": [
      "{1: 'Geeks', 2: 'For', 3: 'Geeks'}\n",
      "{1: 'Geeks', 2: 'For', 3: 'Geeks'}\n",
      "For\n",
      "Geeks\n"
     ]
    }
   ],
   "source": [
    "# Dictionary Data Type\n",
    "# initialize empty dictionary\n",
    "d = {}\n",
    "d = {1: 'Geeks', 2: 'For', 3: 'Geeks'}\n",
    "print(d)\n",
    "\n",
    "# creating dictionary using dict() constructor\n",
    "d1 = dict({1: 'Geeks', 2: 'For', 3: 'Geeks'})\n",
    "print(d1)\n",
    "\n",
    "d = {1: 'Geeks', 'name': 'For', 3: 'Geeks'}\n",
    "# Accessing an element using key\n",
    "print(d['name'])\n",
    "# Accessing a element using get (It does not give error but None if the key is missing)\n",
    "print(d.get(3))"
   ]
  },
  {
   "cell_type": "markdown",
   "id": "579ad5ce",
   "metadata": {},
   "source": [
    "## Data Type Exercise Questions"
   ]
  },
  {
   "cell_type": "code",
   "execution_count": 33,
   "id": "e8eab1ef",
   "metadata": {},
   "outputs": [
    {
     "name": "stdout",
     "output_type": "stream",
     "text": [
      "['apple', 'banana', 'orange']\n",
      "['apple', 'banana', 'orange', 'grape']\n",
      "['apple', 'banana', 'grape']\n"
     ]
    }
   ],
   "source": [
    "# Implement basic list operations\n",
    "fruits = [\"apple\", \"banana\", \"orange\"]\n",
    "print(fruits)\n",
    "fruits.append(\"grape\")\n",
    "print(fruits)\n",
    "fruits.remove(\"orange\")\n",
    "print(fruits)"
   ]
  },
  {
   "cell_type": "code",
   "execution_count": 34,
   "id": "5848e6ec",
   "metadata": {},
   "outputs": [
    {
     "name": "stdout",
     "output_type": "stream",
     "text": [
      "(3, 5)\n",
      "X-coordinate: 3\n",
      "Y-coordinate: 5\n"
     ]
    }
   ],
   "source": [
    "# Code to implement basic tuple\n",
    "coordinates = (3, 5)\n",
    "print(coordinates)\n",
    "print(\"X-coordinate:\", coordinates[0])\n",
    "print(\"Y-coordinate:\", coordinates[1])"
   ]
  },
  {
   "cell_type": "markdown",
   "id": "af3464a6",
   "metadata": {},
   "source": [
    "## Conditional Statement"
   ]
  },
  {
   "cell_type": "code",
   "execution_count": 36,
   "id": "9abe30d2",
   "metadata": {},
   "outputs": [
    {
     "name": "stdout",
     "output_type": "stream",
     "text": [
      "Eligible to Vote.\n"
     ]
    }
   ],
   "source": [
    "# Using if\n",
    "age = 19\n",
    "if age > 18: print(\"Eligible to Vote.\")"
   ]
  },
  {
   "cell_type": "code",
   "execution_count": 39,
   "id": "96208d1a",
   "metadata": {},
   "outputs": [
    {
     "name": "stdout",
     "output_type": "stream",
     "text": [
      "Travel for free.\n",
      "Result: Pass\n"
     ]
    }
   ],
   "source": [
    "# Using If and else\n",
    "age = 10\n",
    "\n",
    "if age <= 12:\n",
    "    print(\"Travel for free.\")\n",
    "else:\n",
    "    print(\"Pay for ticket.\")\n",
    "\n",
    "marks = 45\n",
    "res = \"Pass\" if marks >= 40 else \"Fail\"\n",
    "\n",
    "print(f\"Result: {res}\")"
   ]
  },
  {
   "cell_type": "code",
   "execution_count": 41,
   "id": "24cfcbd6",
   "metadata": {},
   "outputs": [
    {
     "name": "stdout",
     "output_type": "stream",
     "text": [
      "Young adult.\n"
     ]
    }
   ],
   "source": [
    "# Using Elif\n",
    "age = 25\n",
    "\n",
    "if age <= 12:\n",
    "    print(\"Child.\")\n",
    "elif age <= 19:\n",
    "    print(\"Teenager.\")\n",
    "elif age <= 35:\n",
    "    print(\"Young adult.\")\n",
    "else:\n",
    "    print(\"Adult.\")"
   ]
  },
  {
   "cell_type": "code",
   "execution_count": 43,
   "id": "f52daf55",
   "metadata": {},
   "outputs": [
    {
     "name": "stdout",
     "output_type": "stream",
     "text": [
      "30% senior discount!\n"
     ]
    }
   ],
   "source": [
    "# Nested If Statmements\n",
    "age = 70\n",
    "is_member = True\n",
    "\n",
    "if age >= 60:\n",
    "    if is_member:\n",
    "        print(\"30% senior discount!\")\n",
    "    else:\n",
    "        print(\"20% senior discount.\")\n",
    "else:\n",
    "    print(\"Not eligible for a senior discount.\")"
   ]
  },
  {
   "cell_type": "code",
   "execution_count": 45,
   "id": "f471a2da",
   "metadata": {},
   "outputs": [
    {
     "name": "stdout",
     "output_type": "stream",
     "text": [
      "Adult\n"
     ]
    }
   ],
   "source": [
    "# Ternary Condition in Python\n",
    "# Assign a value based on a condition\n",
    "age = 20\n",
    "s = \"Adult\" if age >= 18 else \"Minor\"\n",
    "\n",
    "print(s)"
   ]
  },
  {
   "cell_type": "code",
   "execution_count": 46,
   "id": "3f946f0e",
   "metadata": {},
   "outputs": [
    {
     "name": "stdout",
     "output_type": "stream",
     "text": [
      "Two or Three\n"
     ]
    }
   ],
   "source": [
    "# Match is th python's case of switch case \n",
    "number = 2\n",
    "\n",
    "match number:\n",
    "    case 1:\n",
    "        print(\"One\")\n",
    "    case 2 | 3:\n",
    "        print(\"Two or Three\")\n",
    "    case _:\n",
    "        print(\"Other number\")"
   ]
  },
  {
   "cell_type": "code",
   "execution_count": 47,
   "id": "0ad33e92",
   "metadata": {},
   "outputs": [
    {
     "data": {
      "text/plain": [
       "'Odd'"
      ]
     },
     "execution_count": 47,
     "metadata": {},
     "output_type": "execute_result"
    }
   ],
   "source": [
    "def checkOddEven(x):\n",
    "    if (x % 2 == 0):\n",
    "        # Complete the statement below\n",
    "        return \"Even\"\n",
    "\n",
    "    else:\n",
    "        # Complete the statement below\n",
    "        return \"Odd\"\n",
    "\n",
    "checkOddEven(1)"
   ]
  },
  {
   "cell_type": "markdown",
   "id": "2f41fab6",
   "metadata": {},
   "source": [
    "# Day 3: Loops, Functions and Basic OOPs"
   ]
  },
  {
   "cell_type": "markdown",
   "id": "5cb3cb64",
   "metadata": {},
   "source": [
    "## For Loop"
   ]
  },
  {
   "cell_type": "code",
   "execution_count": 48,
   "id": "bcd0ae65",
   "metadata": {},
   "outputs": [
    {
     "name": "stdout",
     "output_type": "stream",
     "text": [
      "geeks\n",
      "for\n",
      "geeks\n",
      "geeks\n",
      "for\n",
      "geeks\n",
      "G\n",
      "e\n",
      "e\n",
      "k\n",
      "s\n",
      "x  123\n",
      "y  354\n",
      "1\n",
      "2\n",
      "3\n",
      "4\n",
      "5\n",
      "6\n"
     ]
    }
   ],
   "source": [
    "# For Loop\n",
    "li = [\"geeks\", \"for\", \"geeks\"]\n",
    "for i in li:\n",
    "    print(i)\n",
    "    \n",
    "tup = (\"geeks\", \"for\", \"geeks\")\n",
    "for i in tup:\n",
    "    print(i)\n",
    "    \n",
    "s = \"Geeks\"\n",
    "for i in s:\n",
    "    print(i)\n",
    "    \n",
    "d = dict({'x':123, 'y':354})\n",
    "for i in d:\n",
    "    print(\"%s  %d\" % (i, d[i]))\n",
    "    \n",
    "set1 = {1, 2, 3, 4, 5, 6}\n",
    "for i in set1:\n",
    "    print(i),"
   ]
  },
  {
   "cell_type": "code",
   "execution_count": 49,
   "id": "850aa6b7",
   "metadata": {},
   "outputs": [
    {
     "name": "stdout",
     "output_type": "stream",
     "text": [
      "geeks\n",
      "for\n",
      "geeks\n"
     ]
    }
   ],
   "source": [
    "# For with index\n",
    "li = [\"geeks\", \"for\", \"geeks\"]\n",
    "for index in range(len(li)):\n",
    "    print(li[index])"
   ]
  },
  {
   "cell_type": "code",
   "execution_count": 50,
   "id": "4dbdc247",
   "metadata": {},
   "outputs": [
    {
     "name": "stdout",
     "output_type": "stream",
     "text": [
      "geeks\n",
      "for\n",
      "geeks\n",
      "Inside Else Block\n"
     ]
    }
   ],
   "source": [
    "# Else wiyth for\n",
    "li = [\"geeks\", \"for\", \"geeks\"]\n",
    "for index in range(len(li)):\n",
    "    print(li[index])\n",
    "else:\n",
    "    print(\"Inside Else Block\")"
   ]
  },
  {
   "cell_type": "markdown",
   "id": "211a165e",
   "metadata": {},
   "source": [
    "## While Loop"
   ]
  },
  {
   "cell_type": "code",
   "execution_count": 51,
   "id": "d14a1af7",
   "metadata": {},
   "outputs": [
    {
     "name": "stdout",
     "output_type": "stream",
     "text": [
      "Hello Geek\n",
      "Hello Geek\n",
      "Hello Geek\n"
     ]
    }
   ],
   "source": [
    "cnt = 0\n",
    "while (cnt < 3):\n",
    "    cnt = cnt + 1\n",
    "    print(\"Hello Geek\")"
   ]
  },
  {
   "cell_type": "code",
   "execution_count": 52,
   "id": "898a4d46",
   "metadata": {},
   "outputs": [
    {
     "name": "stdout",
     "output_type": "stream",
     "text": [
      "Hello Geek\n",
      "Hello Geek\n",
      "Hello Geek\n",
      "In Else Block\n"
     ]
    }
   ],
   "source": [
    "cnt = 0\n",
    "while (cnt < 3):\n",
    "    cnt = cnt + 1\n",
    "    print(\"Hello Geek\")\n",
    "else:\n",
    "    print(\"In Else Block\")"
   ]
  },
  {
   "cell_type": "code",
   "execution_count": 53,
   "id": "47bb8e47",
   "metadata": {},
   "outputs": [
    {
     "name": "stdout",
     "output_type": "stream",
     "text": [
      "1 \n",
      "2 2 \n",
      "3 3 3 \n",
      "4 4 4 4 \n"
     ]
    }
   ],
   "source": [
    "from __future__ import print_function\n",
    "for i in range(1, 5):\n",
    "    for j in range(i):\n",
    "        print(i, end=' ')\n",
    "    print()"
   ]
  },
  {
   "cell_type": "markdown",
   "id": "75ea1b39",
   "metadata": {},
   "source": [
    "## Loop control Statment"
   ]
  },
  {
   "cell_type": "code",
   "execution_count": 54,
   "id": "c004abbe",
   "metadata": {},
   "outputs": [
    {
     "name": "stdout",
     "output_type": "stream",
     "text": [
      "Current Letter : g\n",
      "Current Letter : k\n",
      "Current Letter : f\n",
      "Current Letter : o\n",
      "Current Letter : r\n",
      "Current Letter : g\n",
      "Current Letter : k\n"
     ]
    }
   ],
   "source": [
    "for letter in 'geeksforgeeks':\n",
    "    if letter == 'e' or letter == 's':\n",
    "        continue\n",
    "    print('Current Letter :', letter)"
   ]
  },
  {
   "cell_type": "code",
   "execution_count": 55,
   "id": "77204bdb",
   "metadata": {},
   "outputs": [
    {
     "name": "stdout",
     "output_type": "stream",
     "text": [
      "Current Letter : e\n"
     ]
    }
   ],
   "source": [
    "for letter in 'geeksforgeeks':\n",
    "    if letter == 'e' or letter == 's':\n",
    "        break\n",
    "\n",
    "print('Current Letter :', letter)"
   ]
  },
  {
   "cell_type": "code",
   "execution_count": 56,
   "id": "86f90b61",
   "metadata": {},
   "outputs": [
    {
     "name": "stdout",
     "output_type": "stream",
     "text": [
      "Last Letter : s\n"
     ]
    }
   ],
   "source": [
    "for letter in 'geeksforgeeks':\n",
    "    pass\n",
    "print('Last Letter :', letter)"
   ]
  },
  {
   "cell_type": "markdown",
   "id": "760cadb8",
   "metadata": {},
   "source": [
    "## Functions"
   ]
  },
  {
   "cell_type": "code",
   "execution_count": 57,
   "id": "761747e7",
   "metadata": {},
   "outputs": [
    {
     "name": "stdout",
     "output_type": "stream",
     "text": [
      "Even\n",
      "Odd\n"
     ]
    }
   ],
   "source": [
    "# Functions\n",
    "def evenOdd(x: int) ->str:\n",
    "    if (x % 2 == 0):\n",
    "        return \"Even\"\n",
    "    else:\n",
    "        return \"Odd\"\n",
    "\n",
    "print(evenOdd(16))\n",
    "print(evenOdd(7))"
   ]
  },
  {
   "cell_type": "code",
   "execution_count": 58,
   "id": "f5bad1ff",
   "metadata": {},
   "outputs": [
    {
     "name": "stdout",
     "output_type": "stream",
     "text": [
      "Case-1:\n",
      "Hi, I am Suraj\n",
      "My age is  27\n",
      "\n",
      "Case-2:\n",
      "Hi, I am 27\n",
      "My age is  Suraj\n"
     ]
    }
   ],
   "source": [
    "def nameAge(name, age):\n",
    "    print(\"Hi, I am\", name)\n",
    "    print(\"My age is \", age)\n",
    "\n",
    "\n",
    "print(\"Case-1:\")\n",
    "nameAge(\"Suraj\", 27)\n",
    "\n",
    "print(\"\\nCase-2:\")\n",
    "nameAge(27, \"Suraj\")"
   ]
  },
  {
   "cell_type": "code",
   "execution_count": 59,
   "id": "5a956bb0",
   "metadata": {},
   "outputs": [
    {
     "name": "stdout",
     "output_type": "stream",
     "text": [
      "Function to check if the number is even or odd\n"
     ]
    }
   ],
   "source": [
    "# To use the docstring\n",
    "def evenOdd(x):\n",
    "    \"\"\"Function to check if the number is even or odd\"\"\"\n",
    "    \n",
    "    if (x % 2 == 0):\n",
    "        print(\"even\")\n",
    "    else:\n",
    "        print(\"odd\")\n",
    "\n",
    "\n",
    "print(evenOdd.__doc__)"
   ]
  },
  {
   "cell_type": "code",
   "execution_count": 62,
   "id": "35312a7d",
   "metadata": {},
   "outputs": [
    {
     "name": "stdout",
     "output_type": "stream",
     "text": [
      "Hello\n",
      "Welcome\n",
      "to\n",
      "GeeksforGeeks\n"
     ]
    }
   ],
   "source": [
    "# Arguments \n",
    "def myFun(*argv):\n",
    "    for arg in argv:\n",
    "        print(arg)\n",
    "\n",
    "\n",
    "myFun('Hello', 'Welcome', 'to', 'GeeksforGeeks')"
   ]
  },
  {
   "cell_type": "code",
   "execution_count": 64,
   "id": "f1714c86",
   "metadata": {},
   "outputs": [
    {
     "name": "stdout",
     "output_type": "stream",
     "text": [
      "343\n",
      "343\n",
      "GEEKSFORGEEKS\n"
     ]
    }
   ],
   "source": [
    "# Anonymous Functions - made by Lambda\n",
    "def cube(x): return x*x*x   # without lambda\n",
    "\n",
    "cube_l = lambda x : x*x*x  # with lambda\n",
    "\n",
    "print(cube(7))\n",
    "print(cube_l(7))\n",
    "\n",
    "s1 = 'GeeksforGeeks'\n",
    "\n",
    "s2 = lambda func: func.upper()\n",
    "print(s2(s1))"
   ]
  },
  {
   "cell_type": "code",
   "execution_count": 63,
   "id": "d846aebd",
   "metadata": {},
   "outputs": [
    {
     "name": "stdout",
     "output_type": "stream",
     "text": [
      "24\n"
     ]
    }
   ],
   "source": [
    "# Recursive Function\n",
    "def factorial(n):\n",
    "    if n == 0:  \n",
    "        return 1\n",
    "    else:\n",
    "        return n * factorial(n - 1) \n",
    "      \n",
    "print(factorial(4))"
   ]
  },
  {
   "cell_type": "code",
   "execution_count": 65,
   "id": "23a2d96b",
   "metadata": {},
   "outputs": [
    {
     "name": "stdout",
     "output_type": "stream",
     "text": [
      "9\n",
      "9\n"
     ]
    }
   ],
   "source": [
    "# Comparison of def and lambda keyword\n",
    "# Using lambda\n",
    "sq = lambda x: x ** 2\n",
    "print(sq(3))\n",
    "\n",
    "# Using def\n",
    "def sqdef(x):\n",
    "    return x ** 2\n",
    "print(sqdef(3))"
   ]
  },
  {
   "cell_type": "code",
   "execution_count": 85,
   "id": "d3fd7581",
   "metadata": {},
   "outputs": [
    {
     "ename": "TypeError",
     "evalue": "'list' object is not callable",
     "output_type": "error",
     "traceback": [
      "\u001b[31m---------------------------------------------------------------------------\u001b[39m",
      "\u001b[31mTypeError\u001b[39m                                 Traceback (most recent call last)",
      "\u001b[36mCell\u001b[39m\u001b[36m \u001b[39m\u001b[32mIn[85]\u001b[39m\u001b[32m, line 4\u001b[39m\n\u001b[32m      2\u001b[39m a = [\u001b[32m1\u001b[39m, \u001b[32m2\u001b[39m, \u001b[32m3\u001b[39m, \u001b[32m4\u001b[39m]\n\u001b[32m      3\u001b[39m b = \u001b[38;5;28mmap\u001b[39m(\u001b[38;5;28;01mlambda\u001b[39;00m x: x * \u001b[32m2\u001b[39m, a)\n\u001b[32m----> \u001b[39m\u001b[32m4\u001b[39m \u001b[38;5;28mprint\u001b[39m(\u001b[38;5;28;43mlist\u001b[39;49m\u001b[43m(\u001b[49m\u001b[43mb\u001b[49m\u001b[43m)\u001b[49m)\n",
      "\u001b[31mTypeError\u001b[39m: 'list' object is not callable"
     ]
    }
   ],
   "source": [
    "# Example: Double each number in a list\n",
    "a = [1, 2, 3, 4]\n",
    "b = map(lambda x: x * 2, a)\n",
    "print(list(b))"
   ]
  },
  {
   "cell_type": "code",
   "execution_count": 86,
   "id": "de95de50",
   "metadata": {},
   "outputs": [
    {
     "name": "stdout",
     "output_type": "stream",
     "text": [
      "24\n"
     ]
    }
   ],
   "source": [
    "from functools import reduce\n",
    "\n",
    "# Example: Find the product of all numbers in a list\n",
    "a = [1, 2, 3, 4]\n",
    "b = reduce(lambda x, y: x * y, a)\n",
    "print(b)"
   ]
  },
  {
   "cell_type": "markdown",
   "id": "5a21f6de",
   "metadata": {},
   "source": [
    "## OOPS\n",
    "1. Class in Python\n",
    "2. Objects in Python\n",
    "3. Polymorphism in Python\n",
    "4. Encapsulation in Python\n",
    "5. Inheritance in Python\n",
    "6. Data Abstraction in Python"
   ]
  },
  {
   "cell_type": "code",
   "execution_count": 88,
   "id": "89df03ff",
   "metadata": {},
   "outputs": [
    {
     "name": "stdout",
     "output_type": "stream",
     "text": [
      "Canine\n",
      "Buddy\n",
      "Charlie\n",
      "Max\n",
      "Feline\n",
      "Feline\n"
     ]
    }
   ],
   "source": [
    "class Dog:\n",
    "    # Class variable\n",
    "    species = \"Canine\"\n",
    "\n",
    "    def __init__(self, name, age):\n",
    "        # Instance variables\n",
    "        self.name = name\n",
    "        self.age = age\n",
    "\n",
    "# Create objects\n",
    "dog1 = Dog(\"Buddy\", 3)\n",
    "dog2 = Dog(\"Charlie\", 5)\n",
    "\n",
    "# Access class and instance variables\n",
    "print(dog1.species)  # (Class variable)\n",
    "print(dog1.name)     # (Instance variable)\n",
    "print(dog2.name)     # (Instance variable)\n",
    "\n",
    "# Modify instance variables\n",
    "dog1.name = \"Max\"\n",
    "print(dog1.name)     # (Updated instance variable)\n",
    "\n",
    "# Modify class variable\n",
    "Dog.species = \"Feline\"\n",
    "print(dog1.species)  # (Updated class variable)\n",
    "print(dog2.species)"
   ]
  },
  {
   "cell_type": "markdown",
   "id": "0308adb7",
   "metadata": {},
   "source": [
    "# Day 4 : String and Lists"
   ]
  },
  {
   "cell_type": "markdown",
   "id": "22ba3271",
   "metadata": {},
   "source": [
    "## String"
   ]
  },
  {
   "cell_type": "code",
   "execution_count": 90,
   "id": "764c1918",
   "metadata": {},
   "outputs": [
    {
     "name": "stdout",
     "output_type": "stream",
     "text": [
      "f\n",
      "GfGG\n",
      "k\n",
      "G\n"
     ]
    }
   ],
   "source": [
    "# Craeting, Indexing and updating method of String\n",
    "s = \"GfG\"\n",
    "\n",
    "print(s[1]) # access 2nd char\n",
    "s1 = s + s[0] # update\n",
    "print(s1) # print\n",
    "\n",
    "s = \"GeeksforGeeks\"\n",
    "# Accesses 3rd character: 'k'\n",
    "print(s[-10])  \n",
    "# Accesses 5th character from end: 'G'\n",
    "print(s[-5])"
   ]
  },
  {
   "cell_type": "code",
   "execution_count": 93,
   "id": "80ac79de",
   "metadata": {},
   "outputs": [
    {
     "name": "stdout",
     "output_type": "stream",
     "text": [
      "eek\n",
      "Gee\n",
      "ksforGeeks\n",
      "skeeGrofskeeG\n",
      "GeeksforGeeks\n"
     ]
    }
   ],
   "source": [
    "# Slicing of the String\n",
    "s = \"GeeksforGeeks\"\n",
    "\n",
    "# Retrieves characters from index 1 to 3: 'eek'\n",
    "print(s[1:4])  \n",
    "\n",
    "# Retrieves characters from beginning to index 2: 'Gee'\n",
    "print(s[:3])   \n",
    "\n",
    "# Retrieves characters from index 3 to the end: 'ksforGeeks'\n",
    "print(s[3:])   \n",
    "\n",
    "# Reverse a string\n",
    "print(s[::-1])\n",
    "\n",
    "# Trying to change the first character raises an error\n",
    "# s[0] = 'I'  # Uncommenting this line will cause a TypeError\n",
    "\n",
    "# Instead, create a new string\n",
    "s = \"G\" + s[1:]\n",
    "print(s)"
   ]
  },
  {
   "cell_type": "code",
   "execution_count": 95,
   "id": "6a6ac7a9",
   "metadata": {},
   "outputs": [],
   "source": [
    "# Deleting a string\n",
    "s = \"GfG\"\n",
    "\n",
    "# Deletes entire string\n",
    "del s"
   ]
  },
  {
   "cell_type": "code",
   "execution_count": 96,
   "id": "9f0abfee",
   "metadata": {},
   "outputs": [
    {
     "name": "stdout",
     "output_type": "stream",
     "text": [
      "Hello geeks\n",
      "hello GeeksforGeeks\n"
     ]
    }
   ],
   "source": [
    "# Method to update a string\n",
    "s = \"hello geeks\"\n",
    "\n",
    "# Updating by creating a new string\n",
    "s1 = \"H\" + s[1:]\n",
    "\n",
    "# replacnig \"geeks\" with \"GeeksforGeeks\"\n",
    "s2 = s.replace(\"geeks\", \"GeeksforGeeks\")\n",
    "print(s1)\n",
    "print(s2)"
   ]
  },
  {
   "cell_type": "code",
   "execution_count": null,
   "id": "bfb2f321",
   "metadata": {},
   "outputs": [
    {
     "name": "stdout",
     "output_type": "stream",
     "text": [
      "11\n",
      "HELLO WORLD\n",
      "hello world\n",
      "Hello World\n",
      "Python is awesome\n",
      "Hello World\n"
     ]
    }
   ],
   "source": [
    "# Common Methods\n",
    "s = \"Hello World\"\n",
    "\n",
    "print(len(s)) # giving length\n",
    "\n",
    "print(s.upper())   # output: HELLO WORLD\n",
    "\n",
    "print(s.lower())   # output: hello world\n",
    "\n",
    "# Removes spaces from both ends\n",
    "print(s.strip())    \n",
    "\n",
    "s = \"Python is fun\"\n",
    "\n",
    "# Replaces 'fun' with 'awesome'\n",
    "print(s.replace(\"fun\", \"awesome\"))\n",
    "\n",
    "# Concatening String\n",
    "s1 = \"Hello\"\n",
    "s2 = \"World\"\n",
    "s3 = s1 + \" \" + s2\n",
    "print(s3)\n",
    "\n",
    "# Formating with F string\n",
    "name = \"Alice\"\n",
    "age = 22\n",
    "print(f\"Name: {name}, Age: {age}\")"
   ]
  },
  {
   "cell_type": "markdown",
   "id": "5ad18938",
   "metadata": {},
   "source": [
    "## Lists"
   ]
  },
  {
   "cell_type": "code",
   "execution_count": 99,
   "id": "f052ea74",
   "metadata": {},
   "outputs": [
    {
     "name": "stdout",
     "output_type": "stream",
     "text": [
      "[10, 20, 'GfG', 40, True]\n",
      "10\n",
      "20\n",
      "GfG\n",
      "40\n",
      "True\n",
      "<class 'str'>\n",
      "<class 'bool'>\n"
     ]
    }
   ],
   "source": [
    "# Creating a Python list with different data types\n",
    "a = [10, 20, \"GfG\", 40, True]\n",
    "print(a)\n",
    "\n",
    "# Accessing elements using indexing\n",
    "print(a[0])  # 10\n",
    "print(a[1])  # 20\n",
    "print(a[2])  # \"GfG\"\n",
    "print(a[3])  # 40\n",
    "print(a[4])  # True\n",
    "\n",
    "# Checking types of elements\n",
    "print(type(a[2]))  # str\n",
    "print(type(a[4]))  # bool"
   ]
  },
  {
   "cell_type": "code",
   "execution_count": 101,
   "id": "e56b2d7e",
   "metadata": {},
   "outputs": [
    {
     "name": "stdout",
     "output_type": "stream",
     "text": [
      "[2, 2, 2, 2, 2]\n",
      "[0, 0, 0, 0, 0, 0, 0]\n"
     ]
    }
   ],
   "source": [
    "# Create a list [2, 2, 2, 2, 2]\n",
    "a = [2] * 5\n",
    "\n",
    "# Create a list [0, 0, 0, 0, 0, 0, 0]\n",
    "b = [0] * 7\n",
    "\n",
    "print(a)\n",
    "print(b)"
   ]
  },
  {
   "cell_type": "code",
   "execution_count": 103,
   "id": "59654d3e",
   "metadata": {},
   "outputs": [
    {
     "name": "stdout",
     "output_type": "stream",
     "text": [
      "After append(10): [10]\n",
      "After insert(0, 5): [5, 10]\n",
      "After extend([15, 20, 25]): [5, 10, 15, 20, 25]\n"
     ]
    }
   ],
   "source": [
    "# Method of adding to the list\n",
    "\n",
    "# Initialize an empty list\n",
    "a = []\n",
    "\n",
    "# Adding 10 to end of list\n",
    "a.append(10)  \n",
    "print(\"After append(10):\", a)  \n",
    "\n",
    "# Inserting 5 at index 0\n",
    "a.insert(0, 5)\n",
    "print(\"After insert(0, 5):\", a) \n",
    "\n",
    "# Adding multiple elements  [15, 20, 25] at the end\n",
    "a.extend([15, 20, 25])  \n",
    "print(\"After extend([15, 20, 25]):\", a)"
   ]
  },
  {
   "cell_type": "code",
   "execution_count": 104,
   "id": "2c278854",
   "metadata": {},
   "outputs": [
    {
     "name": "stdout",
     "output_type": "stream",
     "text": [
      "[10, 25, 30, 40, 50]\n"
     ]
    }
   ],
   "source": [
    "# Updating to the list\n",
    "a = [10, 20, 30, 40, 50]\n",
    "\n",
    "# Change the second element\n",
    "a[1] = 25 \n",
    "print(a)"
   ]
  },
  {
   "cell_type": "code",
   "execution_count": 105,
   "id": "4bd9a0a3",
   "metadata": {},
   "outputs": [
    {
     "name": "stdout",
     "output_type": "stream",
     "text": [
      "After remove(30): [10, 20, 40, 50]\n",
      "Popped element: 20\n",
      "After pop(1): [10, 40, 50]\n",
      "After del a[0]: [40, 50]\n"
     ]
    }
   ],
   "source": [
    "# Removing from the list\n",
    "a = [10, 20, 30, 40, 50]\n",
    "\n",
    "# Removes the first occurrence of 30\n",
    "a.remove(30)  \n",
    "print(\"After remove(30):\", a)\n",
    "\n",
    "# Removes the element at index 1 (20)\n",
    "popped_val = a.pop(1)  \n",
    "print(\"Popped element:\", popped_val)\n",
    "print(\"After pop(1):\", a) \n",
    "\n",
    "# Deletes the first element (10)\n",
    "del a[0]  \n",
    "print(\"After del a[0]:\", a)"
   ]
  },
  {
   "cell_type": "code",
   "execution_count": 106,
   "id": "89ead3b7",
   "metadata": {},
   "outputs": [
    {
     "name": "stdout",
     "output_type": "stream",
     "text": [
      "6\n"
     ]
    }
   ],
   "source": [
    "# Nested list\n",
    "matrix = [\n",
    "    [1, 2, 3],\n",
    "    [4, 5, 6],\n",
    "    [7, 8, 9]\n",
    "]\n",
    "\n",
    "# Access element at row 2, column 3\n",
    "print(matrix[1][2])"
   ]
  },
  {
   "cell_type": "code",
   "execution_count": 107,
   "id": "2d9d22ad",
   "metadata": {},
   "outputs": [
    {
     "name": "stdout",
     "output_type": "stream",
     "text": [
      "[1, 4, 9, 16, 25]\n"
     ]
    }
   ],
   "source": [
    "# List comprehension\n",
    "# Create a list of squares from 1 to 5\n",
    "squares = [x**2 for x in range(1, 6)]\n",
    "print(squares)"
   ]
  },
  {
   "cell_type": "code",
   "execution_count": null,
   "id": "c2cb729e",
   "metadata": {},
   "outputs": [
    {
     "name": "stdout",
     "output_type": "stream",
     "text": [
      "list1=: [0, 2, 3, 4, 5]\n",
      "list1=: [1, 2, 3, 4, 5]\n"
     ]
    }
   ],
   "source": [
    "#Copies of the List\n",
    "\n",
    "list1 = [1, 2, 3, 4, 5]\n",
    "list2 = list1\n",
    "\n",
    "list2[0] = 0\n",
    "\n",
    "print(\"list1=:\", list1)\n",
    "#- list2 = list1 doesn’t create a new list. Instead, both list1 and list2 now point to the same list object in memory.\n",
    "\n",
    "list1 = [1, 2, 3, 4, 5]\n",
    "list2 = list1.copy()\n",
    "# or\n",
    "list2 = list(list1)\n",
    "print(\"list1=:\", list1)"
   ]
  },
  {
   "cell_type": "markdown",
   "id": "17347a4a",
   "metadata": {},
   "source": [
    "# Day 5:  Python Dictionaries, tuples and Sets"
   ]
  },
  {
   "cell_type": "markdown",
   "id": "12b72b91",
   "metadata": {},
   "source": [
    "## Dictionaries"
   ]
  },
  {
   "cell_type": "code",
   "execution_count": 110,
   "id": "9d585e56",
   "metadata": {},
   "outputs": [
    {
     "name": "stdout",
     "output_type": "stream",
     "text": [
      "{1: 'Geeks', 2: 'For', 3: 'Geeks'}\n",
      "{'a': 'Geeks', 'b': 'for', 'c': 'Geeks'}\n"
     ]
    }
   ],
   "source": [
    "# Creating a Dictionary\n",
    "d1 = {1: 'Geeks', 2: 'For', 3: 'Geeks'}\n",
    "print(d1)\n",
    "\n",
    "# create dictionary using dict() constructor\n",
    "d2 = dict(a = \"Geeks\", b = \"for\", c = \"Geeks\")\n",
    "print(d2)"
   ]
  },
  {
   "cell_type": "code",
   "execution_count": 111,
   "id": "66667b40",
   "metadata": {},
   "outputs": [
    {
     "name": "stdout",
     "output_type": "stream",
     "text": [
      "Prajjwal\n",
      "Prajjwal\n"
     ]
    }
   ],
   "source": [
    "# Accessing stuff from dictionary\n",
    "d = { \"name\": \"Prajjwal\", 1: \"Python\", (1, 2): [1,2,4] }\n",
    "\n",
    "# Access using key\n",
    "print(d[\"name\"])\n",
    "\n",
    "# Access using get()\n",
    "print(d.get(\"name\"))"
   ]
  },
  {
   "cell_type": "code",
   "execution_count": 112,
   "id": "07a8aa6d",
   "metadata": {},
   "outputs": [
    {
     "name": "stdout",
     "output_type": "stream",
     "text": [
      "{1: 'Python dict', 2: 'For', 3: 'Geeks', 'age': 22}\n"
     ]
    }
   ],
   "source": [
    "# Adding and updating from the dictionry\n",
    "d = {1: 'Geeks', 2: 'For', 3: 'Geeks'}\n",
    "\n",
    "# Adding a new key-value pair\n",
    "d[\"age\"] = 22\n",
    "\n",
    "# Updating an existing value\n",
    "d[1] = \"Python dict\"\n",
    "\n",
    "print(d)"
   ]
  },
  {
   "cell_type": "code",
   "execution_count": 113,
   "id": "aac9f03a",
   "metadata": {},
   "outputs": [
    {
     "name": "stdout",
     "output_type": "stream",
     "text": [
      "{1: 'Geeks', 2: 'For', 3: 'Geeks'}\n",
      "Geeks\n",
      "Key: 3, Value: Geeks\n",
      "{}\n"
     ]
    }
   ],
   "source": [
    "# Removing from the dictionary\n",
    "d = {1: 'Geeks', 2: 'For', 3: 'Geeks', 'age':22}\n",
    "\n",
    "# Using del to remove an item\n",
    "del d[\"age\"]\n",
    "print(d)\n",
    "\n",
    "# Using pop() to remove an item and return the value\n",
    "val = d.pop(1)\n",
    "print(val)\n",
    "\n",
    "# Using popitem to removes and returns\n",
    "# the last key-value pair.\n",
    "key, val = d.popitem()\n",
    "print(f\"Key: {key}, Value: {val}\")\n",
    "\n",
    "# Clear all items from the dictionary\n",
    "d.clear()\n",
    "print(d)"
   ]
  },
  {
   "cell_type": "code",
   "execution_count": 114,
   "id": "526b0e76",
   "metadata": {},
   "outputs": [
    {
     "name": "stdout",
     "output_type": "stream",
     "text": [
      "1\n",
      "2\n",
      "age\n",
      "Geeks\n",
      "For\n",
      "22\n",
      "1: Geeks\n",
      "2: For\n",
      "age: 22\n"
     ]
    }
   ],
   "source": [
    "# Looping through the dictionary\n",
    "d = {1: 'Geeks', 2: 'For', 'age':22}\n",
    "\n",
    "# Iterate over keys\n",
    "for key in d:\n",
    "    print(key)\n",
    "\n",
    "# Iterate over values\n",
    "for value in d.values():\n",
    "    print(value)\n",
    "\n",
    "# Iterate over key-value pairs\n",
    "for key, value in d.items():\n",
    "    print(f\"{key}: {value}\")"
   ]
  },
  {
   "cell_type": "code",
   "execution_count": 115,
   "id": "88a59a05",
   "metadata": {},
   "outputs": [
    {
     "name": "stdout",
     "output_type": "stream",
     "text": [
      "Original: {'name': 'Alice', 'marks': {'math': 100, 'science': 95}}\n",
      "Shallow Copy: {'name': 'Alice', 'marks': {'math': 100, 'science': 95}}\n"
     ]
    }
   ],
   "source": [
    "# Shallow copy of the dictionary\n",
    "import copy\n",
    "original = {'name': 'Alice', 'marks': {'math': 90, 'science': 95}}\n",
    "\n",
    "# Create a shallow copy\n",
    "shallow = copy.copy(original)\n",
    "\n",
    "# Modify nested value in the copy\n",
    "shallow['marks']['math'] = 100\n",
    "\n",
    "print(\"Original:\", original)\n",
    "print(\"Shallow Copy:\", shallow)"
   ]
  },
  {
   "cell_type": "code",
   "execution_count": 116,
   "id": "c80f11b2",
   "metadata": {},
   "outputs": [
    {
     "name": "stdout",
     "output_type": "stream",
     "text": [
      "Original: {'name': 'Alice', 'marks': {'math': 90, 'science': 95}}\n",
      "Deep Copy: {'name': 'Alice', 'marks': {'math': 100, 'science': 95}}\n"
     ]
    }
   ],
   "source": [
    "# Deep copy of the dictionary\n",
    "import copy\n",
    "original = {'name': 'Alice', 'marks': {'math': 90, 'science': 95}}\n",
    "\n",
    "# Create a deep copy\n",
    "deep = copy.deepcopy(original)\n",
    "\n",
    "# Modify nested value in the deep copy\n",
    "deep['marks']['math'] = 100\n",
    "\n",
    "print(\"Original:\", original)\n",
    "print(\"Deep Copy:\", deep)"
   ]
  },
  {
   "cell_type": "markdown",
   "id": "7cee92ef",
   "metadata": {},
   "source": [
    "## Tuples"
   ]
  },
  {
   "cell_type": "code",
   "execution_count": null,
   "id": "90d38c90",
   "metadata": {},
   "outputs": [
    {
     "name": "stdout",
     "output_type": "stream",
     "text": [
      "(5, 'Welcome', 7, 'Geeks')\n",
      "((0, 1, 2, 3), ('python', 'geek'))\n",
      "('Geeks', 'Geeks', 'Geeks')\n",
      "('Geeks',)\n",
      "(('Geeks',),)\n",
      "((('Geeks',),),)\n",
      "(((('Geeks',),),),)\n",
      "((((('Geeks',),),),),)\n"
     ]
    }
   ],
   "source": [
    "tup = (5, 'Welcome', 7, 'Geeks')\n",
    "print(tup)\n",
    "# Tuple are immutable but they can contain mutable objects\n",
    "\n",
    "# Creating a Tuple with nested tuples\n",
    "tup1 = (0, 1, 2, 3)\n",
    "tup2 = ('python', 'geek')\n",
    "tup3 = (tup1, tup2)\n",
    "print(tup3)\n",
    "\n",
    "# Creating a Tuple with repetition\n",
    "tup1 = ('Geeks',) * 3\n",
    "print(tup1)\n",
    "\n",
    "# Creating a Tuple with the use of loop\n",
    "tup = ('Geeks')\n",
    "n = 5\n",
    "for i in range(int(n)):\n",
    "    tup = (tup,)\n",
    "    print(tup)"
   ]
  },
  {
   "cell_type": "code",
   "execution_count": 119,
   "id": "45b4a32c",
   "metadata": {},
   "outputs": [
    {
     "name": "stdout",
     "output_type": "stream",
     "text": [
      "G\n",
      "('e', 'e', 'k')\n",
      "('G', 'e', 'e')\n",
      "Geeks\n",
      "For\n",
      "Geeks\n"
     ]
    }
   ],
   "source": [
    "# Accessing Tuple with Indexing\n",
    "tup = tuple(\"Geeks\")\n",
    "print(tup[0])\n",
    "\n",
    "# Accessing a range of elements using slicing\n",
    "print(tup[1:4])  \n",
    "print(tup[:3])\n",
    "\n",
    "# Tuple unpacking\n",
    "tup = (\"Geeks\", \"For\", \"Geeks\")\n",
    "\n",
    "# This line unpack values of Tuple1\n",
    "a, b, c = tup\n",
    "print(a)\n",
    "print(b)\n",
    "print(c)"
   ]
  },
  {
   "cell_type": "code",
   "execution_count": 120,
   "id": "f78746dd",
   "metadata": {},
   "outputs": [
    {
     "ename": "NameError",
     "evalue": "name 'tup' is not defined",
     "output_type": "error",
     "traceback": [
      "\u001b[31m---------------------------------------------------------------------------\u001b[39m",
      "\u001b[31mNameError\u001b[39m                                 Traceback (most recent call last)",
      "\u001b[36mCell\u001b[39m\u001b[36m \u001b[39m\u001b[32mIn[120]\u001b[39m\u001b[32m, line 5\u001b[39m\n\u001b[32m      2\u001b[39m tup = (\u001b[32m0\u001b[39m, \u001b[32m1\u001b[39m, \u001b[32m2\u001b[39m, \u001b[32m3\u001b[39m, \u001b[32m4\u001b[39m)\n\u001b[32m      3\u001b[39m \u001b[38;5;28;01mdel\u001b[39;00m tup\n\u001b[32m----> \u001b[39m\u001b[32m5\u001b[39m \u001b[38;5;28mprint\u001b[39m(\u001b[43mtup\u001b[49m)\n",
      "\u001b[31mNameError\u001b[39m: name 'tup' is not defined"
     ]
    }
   ],
   "source": [
    "# Deleting the tuple\n",
    "tup = (0, 1, 2, 3, 4)\n",
    "del tup\n",
    "\n",
    "print(tup)"
   ]
  },
  {
   "cell_type": "code",
   "execution_count": 121,
   "id": "33ca78ee",
   "metadata": {},
   "outputs": [
    {
     "name": "stdout",
     "output_type": "stream",
     "text": [
      "1\n",
      "[2, 3, 4]\n",
      "5\n"
     ]
    }
   ],
   "source": [
    "# Tuple Unpacking\n",
    "tup = (1, 2, 3, 4, 5)\n",
    "\n",
    "a, *b, c = tup\n",
    "\n",
    "print(a) \n",
    "print(b) \n",
    "print(c)"
   ]
  },
  {
   "cell_type": "markdown",
   "id": "54cbb0bd",
   "metadata": {},
   "source": [
    "## Sets"
   ]
  },
  {
   "cell_type": "code",
   "execution_count": 122,
   "id": "f375d5ea",
   "metadata": {},
   "outputs": [
    {
     "name": "stdout",
     "output_type": "stream",
     "text": [
      "{'c', 'a', 'b'}\n",
      "{'c', 'a', 'd', 'b'}\n"
     ]
    }
   ],
   "source": [
    "# typecasting list to set\n",
    "s = set([\"a\", \"b\", \"c\"])\n",
    "print(s)\n",
    "\n",
    "# Adding element to the set\n",
    "s.add(\"d\")\n",
    "print(s)"
   ]
  },
  {
   "cell_type": "code",
   "execution_count": 123,
   "id": "7e26cfd9",
   "metadata": {},
   "outputs": [
    {
     "name": "stdout",
     "output_type": "stream",
     "text": [
      "{'Geeks', 'for'}\n"
     ]
    },
    {
     "ename": "TypeError",
     "evalue": "'set' object does not support item assignment",
     "output_type": "error",
     "traceback": [
      "\u001b[31m---------------------------------------------------------------------------\u001b[39m",
      "\u001b[31mTypeError\u001b[39m                                 Traceback (most recent call last)",
      "\u001b[36mCell\u001b[39m\u001b[36m \u001b[39m\u001b[32mIn[123]\u001b[39m\u001b[32m, line 10\u001b[39m\n\u001b[32m      7\u001b[39m \u001b[38;5;28mprint\u001b[39m(s)\n\u001b[32m      9\u001b[39m \u001b[38;5;66;03m# values of a set cannot be changed\u001b[39;00m\n\u001b[32m---> \u001b[39m\u001b[32m10\u001b[39m \u001b[43ms\u001b[49m\u001b[43m[\u001b[49m\u001b[32;43m1\u001b[39;49m\u001b[43m]\u001b[49m = \u001b[33m\"\u001b[39m\u001b[33mHello\u001b[39m\u001b[33m\"\u001b[39m\n\u001b[32m     11\u001b[39m \u001b[38;5;28mprint\u001b[39m(s)\n",
      "\u001b[31mTypeError\u001b[39m: 'set' object does not support item assignment"
     ]
    }
   ],
   "source": [
    "# Python program to demonstrate that\n",
    "# a set cannot have duplicate values \n",
    "# and we cannot change its items\n",
    "\n",
    "# a set cannot have duplicate values\n",
    "s = {\"Geeks\", \"for\", \"Geeks\"}\n",
    "print(s)\n",
    "\n",
    "# values of a set cannot be changed\n",
    "s[1] = \"Hello\"\n",
    "print(s)"
   ]
  },
  {
   "cell_type": "code",
   "execution_count": 124,
   "id": "8fc71f3c",
   "metadata": {},
   "outputs": [
    {
     "name": "stdout",
     "output_type": "stream",
     "text": [
      "{True, 'Geeks', 52.7, 10, 'for'}\n"
     ]
    }
   ],
   "source": [
    "# Python example demonstrate that a set\n",
    "# can store heterogeneous elements\n",
    "s = {\"Geeks\", \"for\", 10, 52.7, True}\n",
    "print(s)"
   ]
  },
  {
   "cell_type": "code",
   "execution_count": 125,
   "id": "45cd1549",
   "metadata": {},
   "outputs": [
    {
     "name": "stdout",
     "output_type": "stream",
     "text": [
      "Normal Set\n",
      "{'c', 'a', 'b'}\n",
      "\n",
      "Frozen Set\n",
      "frozenset({'f', 'e', 'g'})\n"
     ]
    }
   ],
   "source": [
    "# Python program to demonstrate differences\n",
    "# between normal and frozen set\n",
    "\n",
    "# Same as {\"a\", \"b\",\"c\"}\n",
    "s = set([\"a\", \"b\",\"c\"])\n",
    "\n",
    "print(\"Normal Set\")\n",
    "print(s)\n",
    "\n",
    "# A frozen set\n",
    "fs = frozenset([\"e\", \"f\", \"g\"])\n",
    "\n",
    "print(\"\\nFrozen Set\")\n",
    "print(fs)\n",
    "\n",
    "# Uncommenting below line would cause error as\n",
    "# we are trying to add element to a frozen set\n",
    "# fs.add(\"h\")"
   ]
  },
  {
   "cell_type": "code",
   "execution_count": 126,
   "id": "8b465e82",
   "metadata": {},
   "outputs": [
    {
     "name": "stdout",
     "output_type": "stream",
     "text": [
      "People: {'Archi', 'Idrish', 'Jay'}\n",
      "\n",
      "Set after adding element: {1, 2, 3, 4, 5, 'Jay', 'Archi', 'Idrish', 'Daxit'}\n"
     ]
    }
   ],
   "source": [
    "# A Python program to\n",
    "# demonstrate adding elements\n",
    "# in a set\n",
    "\n",
    "# Creating a Set\n",
    "people = {\"Jay\", \"Idrish\", \"Archi\"}\n",
    "\n",
    "print(\"People:\", end = \" \")\n",
    "print(people)\n",
    "\n",
    "# This will add Daxit\n",
    "# in the set\n",
    "people.add(\"Daxit\")\n",
    "\n",
    "# Adding elements to the\n",
    "# set using iterator\n",
    "for i in range(1, 6):\n",
    "    people.add(i)\n",
    "\n",
    "print(\"\\nSet after adding element:\", end = \" \")\n",
    "print(people)"
   ]
  },
  {
   "cell_type": "code",
   "execution_count": 127,
   "id": "1cc12ec0",
   "metadata": {},
   "outputs": [
    {
     "name": "stdout",
     "output_type": "stream",
     "text": [
      "Union using union() function\n",
      "{'Arjun', 'Jay', 'Archil', 'Idrish', 'Karan'}\n",
      "\n",
      "Union using '|' operator\n",
      "{'Deepanshu', 'Jay', 'Archil', 'Idrish', 'Raju'}\n"
     ]
    }
   ],
   "source": [
    "# Python Program to\n",
    "# demonstrate union of\n",
    "# two sets\n",
    "\n",
    "people = {\"Jay\", \"Idrish\", \"Archil\"}\n",
    "vampires = {\"Karan\", \"Arjun\"}\n",
    "dracula = {\"Deepanshu\", \"Raju\"}\n",
    "\n",
    "# Union using union()\n",
    "# function\n",
    "population = people.union(vampires)\n",
    "\n",
    "print(\"Union using union() function\")\n",
    "print(population)\n",
    "\n",
    "# Union using \"|\"\n",
    "# operator\n",
    "population = people|dracula\n",
    "\n",
    "print(\"\\nUnion using '|' operator\")\n",
    "print(population)"
   ]
  },
  {
   "cell_type": "code",
   "execution_count": 128,
   "id": "93e1fda0",
   "metadata": {},
   "outputs": [
    {
     "name": "stdout",
     "output_type": "stream",
     "text": [
      "Intersection using intersection() function\n",
      "{3, 4}\n",
      "\n",
      "Intersection using '&' operator\n",
      "{3, 4}\n"
     ]
    }
   ],
   "source": [
    "# Python program to\n",
    "# demonstrate intersection\n",
    "# of two sets\n",
    "\n",
    "set1 = set()\n",
    "set2 = set()\n",
    "\n",
    "for i in range(5):\n",
    "    set1.add(i)\n",
    "\n",
    "for i in range(3,9):\n",
    "    set2.add(i)\n",
    "\n",
    "# Intersection using\n",
    "# intersection() function\n",
    "set3 = set1.intersection(set2)\n",
    "\n",
    "print(\"Intersection using intersection() function\")\n",
    "print(set3)\n",
    "\n",
    "# Intersection using\n",
    "# \"&\" operator\n",
    "set3 = set1 & set2\n",
    "\n",
    "print(\"\\nIntersection using '&' operator\")\n",
    "print(set3)"
   ]
  },
  {
   "cell_type": "code",
   "execution_count": 129,
   "id": "0988c5af",
   "metadata": {},
   "outputs": [
    {
     "name": "stdout",
     "output_type": "stream",
     "text": [
      " Difference of two sets using difference() function\n",
      "{0, 1, 2}\n",
      "\n",
      "Difference of two sets using '-' operator\n",
      "{0, 1, 2}\n"
     ]
    }
   ],
   "source": [
    "# Python program to\n",
    "# demonstrate difference\n",
    "# of two sets\n",
    "\n",
    "set1 = set()\n",
    "set2 = set()\n",
    "\n",
    "for i in range(5):\n",
    "    set1.add(i)\n",
    "\n",
    "for i in range(3,9):\n",
    "    set2.add(i)\n",
    "\n",
    "# Difference of two sets\n",
    "# using difference() function\n",
    "set3 = set1.difference(set2)\n",
    "\n",
    "print(\" Difference of two sets using difference() function\")\n",
    "print(set3)\n",
    "\n",
    "# Difference of two sets\n",
    "# using '-' operator\n",
    "set3 = set1 - set2\n",
    "\n",
    "print(\"\\nDifference of two sets using '-' operator\")\n",
    "print(set3)"
   ]
  },
  {
   "cell_type": "code",
   "execution_count": 130,
   "id": "2e2f5a4f",
   "metadata": {},
   "outputs": [
    {
     "name": "stdout",
     "output_type": "stream",
     "text": [
      "Initial set\n",
      "{1, 2, 3, 4, 5, 6}\n",
      "\n",
      "Set after using clear() function\n",
      "set()\n"
     ]
    }
   ],
   "source": [
    "# Python program to\n",
    "# demonstrate clearing\n",
    "# of set\n",
    "\n",
    "set1 = {1,2,3,4,5,6}\n",
    "\n",
    "print(\"Initial set\")\n",
    "print(set1)\n",
    "\n",
    "# This method will remove\n",
    "# all the elements of the set\n",
    "set1.clear()\n",
    "\n",
    "print(\"\\nSet after using clear() function\")\n",
    "print(set1)"
   ]
  },
  {
   "cell_type": "markdown",
   "id": "70c657e3",
   "metadata": {},
   "source": [
    "# Day 6 : Python Collections and Comprehensions"
   ]
  },
  {
   "cell_type": "markdown",
   "id": "ff4f6e4d",
   "metadata": {},
   "source": [
    "## Module"
   ]
  },
  {
   "cell_type": "code",
   "execution_count": 131,
   "id": "164fdb94",
   "metadata": {},
   "outputs": [
    {
     "name": "stdout",
     "output_type": "stream",
     "text": [
      "Counter({'B': 5, 'A': 3, 'C': 2})\n",
      "Counter({'B': 5, 'A': 3, 'C': 2})\n",
      "Counter({'B': 5, 'A': 3, 'C': 2})\n"
     ]
    }
   ],
   "source": [
    "# A Python program to show different \n",
    "# ways to create Counter \n",
    "from collections import Counter \n",
    "  \n",
    "# With sequence of items  \n",
    "print(Counter(['B','B','A','B','C','A','B',\n",
    "               'B','A','C']))\n",
    "  \n",
    "# with dictionary \n",
    "print(Counter({'A':3, 'B':5, 'C':2}))\n",
    "  \n",
    "# with keyword arguments \n",
    "print(Counter(A=3, B=5, C=2))"
   ]
  },
  {
   "cell_type": "code",
   "execution_count": 132,
   "id": "c8dc22b5",
   "metadata": {},
   "outputs": [
    {
     "name": "stdout",
     "output_type": "stream",
     "text": [
      "This is a Dict:\n",
      "\n",
      "a 1\n",
      "b 2\n",
      "c 3\n",
      "d 4\n",
      "\n",
      "This is an Ordered Dict:\n",
      "\n",
      "a 1\n",
      "b 2\n",
      "c 3\n",
      "d 4\n"
     ]
    }
   ],
   "source": [
    "# A Python program to demonstrate working\n",
    "# of OrderedDict \n",
    "\n",
    "from collections import OrderedDict \n",
    "  \n",
    "print(\"This is a Dict:\\n\") \n",
    "d = {} \n",
    "d['a'] = 1\n",
    "d['b'] = 2\n",
    "d['c'] = 3\n",
    "d['d'] = 4\n",
    "  \n",
    "for key, value in d.items(): \n",
    "    print(key, value) \n",
    "  \n",
    "print(\"\\nThis is an Ordered Dict:\\n\") \n",
    "od = OrderedDict() \n",
    "od['a'] = 1\n",
    "od['b'] = 2\n",
    "od['c'] = 3\n",
    "od['d'] = 4\n",
    "  \n",
    "for key, value in od.items(): \n",
    "    print(key, value)"
   ]
  },
  {
   "cell_type": "code",
   "execution_count": 133,
   "id": "3bcffda6",
   "metadata": {},
   "outputs": [
    {
     "name": "stdout",
     "output_type": "stream",
     "text": [
      "defaultdict(<class 'int'>, {1: 2, 2: 3, 3: 1, 4: 2})\n"
     ]
    }
   ],
   "source": [
    "# Python program to demonstrate \n",
    "# defaultdict \n",
    "   \n",
    "   \n",
    "from collections import defaultdict \n",
    "   \n",
    "   \n",
    "# Defining the dict \n",
    "d = defaultdict(int) \n",
    "   \n",
    "L = [1, 2, 3, 4, 2, 4, 1, 2] \n",
    "   \n",
    "# Iterate through the list \n",
    "# for keeping the count \n",
    "for i in L: \n",
    "       \n",
    "    # The default value is 0 \n",
    "    # so there is no need to  \n",
    "    # enter the key first \n",
    "    d[i] += 1\n",
    "       \n",
    "print(d)"
   ]
  },
  {
   "cell_type": "code",
   "execution_count": 134,
   "id": "ccd2a553",
   "metadata": {},
   "outputs": [
    {
     "name": "stdout",
     "output_type": "stream",
     "text": [
      "Before Deleting\n",
      "a 1\n",
      "b 2\n",
      "c 3\n",
      "d 4\n",
      "\n",
      "After re-inserting\n",
      "b 2\n",
      "c 3\n",
      "d 4\n",
      "a 1\n"
     ]
    }
   ],
   "source": [
    "# A Python program to demonstrate working\n",
    "# of OrderedDict \n",
    "\n",
    "from collections import OrderedDict \n",
    "\n",
    "\n",
    "od = OrderedDict() \n",
    "od['a'] = 1\n",
    "od['b'] = 2\n",
    "od['c'] = 3\n",
    "od['d'] = 4\n",
    "  \n",
    "print('Before Deleting')\n",
    "for key, value in od.items(): \n",
    "    print(key, value) \n",
    "    \n",
    "# deleting element\n",
    "od.pop('a')\n",
    "\n",
    "# Re-inserting the same\n",
    "od['a'] = 1\n",
    "\n",
    "print('\\nAfter re-inserting')\n",
    "for key, value in od.items(): \n",
    "    print(key, value)"
   ]
  },
  {
   "cell_type": "code",
   "execution_count": 135,
   "id": "3067a3d7",
   "metadata": {},
   "outputs": [
    {
     "name": "stdout",
     "output_type": "stream",
     "text": [
      "1\n",
      "ValuesView(ChainMap({'a': 1, 'b': 2}, {'c': 3, 'd': 4}, {'e': 5, 'f': 6}))\n",
      "KeysView(ChainMap({'a': 1, 'b': 2}, {'c': 3, 'd': 4}, {'e': 5, 'f': 6}))\n"
     ]
    }
   ],
   "source": [
    "# Python program to demonstrate \n",
    "# ChainMap \n",
    "   \n",
    "   \n",
    "from collections import ChainMap \n",
    "   \n",
    "   \n",
    "d1 = {'a': 1, 'b': 2}\n",
    "d2 = {'c': 3, 'd': 4}\n",
    "d3 = {'e': 5, 'f': 6}\n",
    "\n",
    "# Defining the chainmap \n",
    "c = ChainMap(d1, d2, d3) \n",
    "   \n",
    "# Accessing Values using key name\n",
    "print(c['a'])\n",
    "\n",
    "# Accessing values using values()\n",
    "# method\n",
    "print(c.values())\n",
    "\n",
    "# Accessing keys using keys()\n",
    "# method\n",
    "print(c.keys())"
   ]
  },
  {
   "cell_type": "code",
   "execution_count": 136,
   "id": "d7efc05c",
   "metadata": {},
   "outputs": [
    {
     "name": "stdout",
     "output_type": "stream",
     "text": [
      "The Student age using index is : 19\n",
      "The Student name using keyname is : Nandini\n"
     ]
    }
   ],
   "source": [
    "# Python code to demonstrate namedtuple()\n",
    "  \n",
    "from collections import namedtuple\n",
    "  \n",
    "# Declaring namedtuple() \n",
    "Student = namedtuple('Student',['name','age','DOB']) \n",
    "  \n",
    "# Adding values \n",
    "S = Student('Nandini','19','2541997') \n",
    "  \n",
    "# Access using index \n",
    "print (\"The Student age using index is : \",end =\"\") \n",
    "print (S[1]) \n",
    "  \n",
    "# Access using name  \n",
    "print (\"The Student name using keyname is : \",end =\"\") \n",
    "print (S.name)"
   ]
  },
  {
   "cell_type": "code",
   "execution_count": 137,
   "id": "0b063b45",
   "metadata": {},
   "outputs": [
    {
     "name": "stdout",
     "output_type": "stream",
     "text": [
      "The namedtuple instance using iterable is  : \n",
      "Student(name='Manjeet', age='19', DOB='411997')\n",
      "The OrderedDict instance using namedtuple is  : \n",
      "{'name': 'Nandini', 'age': '19', 'DOB': '2541997'}\n"
     ]
    }
   ],
   "source": [
    "# Python code to demonstrate namedtuple() and \n",
    "# _make(), _asdict()\n",
    "  \n",
    "\n",
    "from collections import namedtuple\n",
    "  \n",
    "# Declaring namedtuple() \n",
    "Student = namedtuple('Student',['name','age','DOB']) \n",
    "  \n",
    "# Adding values \n",
    "S = Student('Nandini','19','2541997') \n",
    "  \n",
    "# initializing iterable  \n",
    "li = ['Manjeet', '19', '411997' ] \n",
    "  \n",
    "# initializing dict \n",
    "di = { 'name' : \"Nikhil\", 'age' : 19 , 'DOB' : '1391997' } \n",
    "  \n",
    "# using _make() to return namedtuple() \n",
    "print (\"The namedtuple instance using iterable is  : \") \n",
    "print (Student._make(li)) \n",
    "  \n",
    "# using _asdict() to return an OrderedDict() \n",
    "print (\"The OrderedDict instance using namedtuple is  : \") \n",
    "print (S._asdict())"
   ]
  },
  {
   "cell_type": "code",
   "execution_count": 139,
   "id": "a0f1b4ca",
   "metadata": {},
   "outputs": [
    {
     "name": "stdout",
     "output_type": "stream",
     "text": [
      "deque(['name', 'age', 'DOB'])\n"
     ]
    }
   ],
   "source": [
    "# Python code to demonstrate deque\n",
    "  \n",
    "\n",
    "from collections import deque\n",
    "  \n",
    "# Declaring deque\n",
    "queue = deque(['name','age','DOB']) \n",
    "  \n",
    "print(queue)"
   ]
  },
  {
   "cell_type": "code",
   "execution_count": 140,
   "id": "96ba2720",
   "metadata": {},
   "outputs": [
    {
     "name": "stdout",
     "output_type": "stream",
     "text": [
      "The deque after appending at right is : \n",
      "deque([1, 2, 3, 4])\n",
      "The deque after appending at left is : \n",
      "deque([6, 1, 2, 3, 4])\n"
     ]
    }
   ],
   "source": [
    "# Python code to demonstrate working of  \n",
    "# append(), appendleft()\n",
    "  \n",
    "\n",
    "from collections import deque \n",
    "  \n",
    "# initializing deque \n",
    "de = deque([1,2,3]) \n",
    "  \n",
    "# using append() to insert element at right end  \n",
    "# inserts 4 at the end of deque \n",
    "de.append(4) \n",
    "  \n",
    "# printing modified deque \n",
    "print (\"The deque after appending at right is : \") \n",
    "print (de) \n",
    "  \n",
    "# using appendleft() to insert element at right end  \n",
    "# inserts 6 at the beginning of deque \n",
    "de.appendleft(6) \n",
    "  \n",
    "# printing modified deque \n",
    "print (\"The deque after appending at left is : \") \n",
    "print (de)"
   ]
  },
  {
   "cell_type": "code",
   "execution_count": 141,
   "id": "5ee171d6",
   "metadata": {},
   "outputs": [
    {
     "name": "stdout",
     "output_type": "stream",
     "text": [
      "Original String: Geeks\n",
      "String After Appending: Geekss\n",
      "String after Removing: Gkss\n"
     ]
    }
   ],
   "source": [
    "# Python program to demonstrate \n",
    "# userstring \n",
    "   \n",
    "  \n",
    "from collections import UserString \n",
    "   \n",
    "  \n",
    "# Creating a Mutable String \n",
    "class Mystring(UserString): \n",
    "      \n",
    "    # Function to append to \n",
    "    # string \n",
    "    def append(self, s): \n",
    "        self.data += s \n",
    "          \n",
    "    # Function to remove from  \n",
    "    # string \n",
    "    def remove(self, s): \n",
    "        self.data = self.data.replace(s, \"\") \n",
    "      \n",
    "# Driver's code \n",
    "s1 = Mystring(\"Geeks\") \n",
    "print(\"Original String:\", s1.data) \n",
    "  \n",
    "# Appending to string \n",
    "s1.append(\"s\") \n",
    "print(\"String After Appending:\", s1.data) \n",
    "  \n",
    "# Removing from string \n",
    "s1.remove(\"e\") \n",
    "print(\"String after Removing:\", s1.data)"
   ]
  },
  {
   "cell_type": "markdown",
   "id": "eef79572",
   "metadata": {},
   "source": [
    "## List Comprehension"
   ]
  },
  {
   "cell_type": "code",
   "execution_count": 142,
   "id": "7bfaa3a3",
   "metadata": {},
   "outputs": [
    {
     "name": "stdout",
     "output_type": "stream",
     "text": [
      "[2, 4, 6, 8]\n"
     ]
    }
   ],
   "source": [
    "a = [1, 2, 3, 4, 5, 6, 7, 8, 9]\n",
    "res = [num for num in a if num % 2 == 0]\n",
    "print(res)"
   ]
  },
  {
   "cell_type": "code",
   "execution_count": 143,
   "id": "892c8100",
   "metadata": {},
   "outputs": [
    {
     "name": "stdout",
     "output_type": "stream",
     "text": [
      "[1, 4, 9, 16, 25]\n"
     ]
    }
   ],
   "source": [
    "res = [num**2 for num in range(1, 6)]\n",
    "print(res)"
   ]
  },
  {
   "cell_type": "code",
   "execution_count": 145,
   "id": "5a730d39",
   "metadata": {},
   "outputs": [
    {
     "name": "stdout",
     "output_type": "stream",
     "text": [
      "{1: 1, 2: 8, 3: 27, 4: 64, 5: 125}\n",
      "{'Texas': 'Austin', 'California': 'Sacramento', 'Florida': 'Tallahassee'}\n"
     ]
    }
   ],
   "source": [
    "res = {num: num**3 for num in range(1, 6)}\n",
    "print(res)\n",
    "\n",
    "a = [\"Texas\", \"California\", \"Florida\"] # states\n",
    "b = [\"Austin\", \"Sacramento\", \"Tallahassee\"] # capital\n",
    "\n",
    "res = {state: capital for state, capital in zip(a, b)}\n",
    "print(res)"
   ]
  },
  {
   "cell_type": "code",
   "execution_count": 146,
   "id": "952de899",
   "metadata": {},
   "outputs": [
    {
     "name": "stdout",
     "output_type": "stream",
     "text": [
      "{2, 4, 6}\n"
     ]
    }
   ],
   "source": [
    "a = [1, 2, 2, 3, 4, 4, 5, 6, 6, 7]\n",
    "\n",
    "res = {num for num in a if num % 2 == 0}\n",
    "print(res)"
   ]
  },
  {
   "cell_type": "code",
   "execution_count": 148,
   "id": "219cc29f",
   "metadata": {},
   "outputs": [
    {
     "name": "stdout",
     "output_type": "stream",
     "text": [
      "(1, 4, 9, 16, 25)\n"
     ]
    }
   ],
   "source": [
    "res = (num**2 for num in range(1, 6))\n",
    "print(tuple(res))"
   ]
  },
  {
   "cell_type": "markdown",
   "id": "b6c8c5fd",
   "metadata": {},
   "source": [
    "# Day 7 : Error Handling, File Handling and Advanced Python"
   ]
  },
  {
   "cell_type": "markdown",
   "id": "c89adf44",
   "metadata": {},
   "source": [
    "## Exception handling"
   ]
  },
  {
   "cell_type": "code",
   "execution_count": 149,
   "id": "c3f41ae4",
   "metadata": {},
   "outputs": [
    {
     "name": "stdout",
     "output_type": "stream",
     "text": [
      "Can't be divided by zero!\n"
     ]
    }
   ],
   "source": [
    "# Simple Exception Handling Example\n",
    "n = 10\n",
    "try:\n",
    "    res = n / 0  # This will raise a ZeroDivisionError\n",
    "    \n",
    "except ZeroDivisionError:\n",
    "    print(\"Can't be divided by zero!\")"
   ]
  },
  {
   "cell_type": "code",
   "execution_count": null,
   "id": "45f8994e",
   "metadata": {},
   "outputs": [],
   "source": [
    "# Syntax Error (Error)\n",
    "print(\"Hello world\"  # Missing closing parenthesis\n",
    "\n",
    "# ZeroDivisionError (Exception)\n",
    "n = 10\n",
    "res = n / 0"
   ]
  },
  {
   "cell_type": "code",
   "execution_count": 150,
   "id": "ca55231b",
   "metadata": {},
   "outputs": [
    {
     "name": "stdout",
     "output_type": "stream",
     "text": [
      "You can't divide by zero!\n",
      "Execution complete.\n"
     ]
    }
   ],
   "source": [
    "try:\n",
    "    n = 0\n",
    "    res = 100 / n\n",
    "    \n",
    "except ZeroDivisionError:\n",
    "    print(\"You can't divide by zero!\")\n",
    "    \n",
    "except ValueError:\n",
    "    print(\"Enter a valid number!\")\n",
    "    \n",
    "else:\n",
    "    print(\"Result is\", res)\n",
    "    \n",
    "finally:\n",
    "    print(\"Execution complete.\")"
   ]
  },
  {
   "cell_type": "code",
   "execution_count": 151,
   "id": "e54ede41",
   "metadata": {},
   "outputs": [
    {
     "name": "stdout",
     "output_type": "stream",
     "text": [
      "Not Valid!\n"
     ]
    }
   ],
   "source": [
    "try:\n",
    "    x = int(\"str\")  # This will cause ValueError\n",
    "    \n",
    "    #inverse\n",
    "    inv = 1 / x\n",
    "    \n",
    "except ValueError:\n",
    "    print(\"Not Valid!\")\n",
    "    \n",
    "except ZeroDivisionError:\n",
    "    print(\"Zero has no inverse!\")"
   ]
  },
  {
   "cell_type": "code",
   "execution_count": 152,
   "id": "53637eba",
   "metadata": {},
   "outputs": [
    {
     "name": "stdout",
     "output_type": "stream",
     "text": [
      "Error invalid literal for int() with base 10: 'twenty'\n"
     ]
    }
   ],
   "source": [
    "a = [\"10\", \"twenty\", 30]  # Mixed list of integers and strings\n",
    "try:\n",
    "    total = int(a[0]) + int(a[1])  # 'twenty' cannot be converted to int\n",
    "    \n",
    "except (ValueError, TypeError) as e:\n",
    "    print(\"Error\", e)\n",
    "    \n",
    "except IndexError:\n",
    "    print(\"Index out of range.\")"
   ]
  },
  {
   "cell_type": "code",
   "execution_count": 153,
   "id": "718852df",
   "metadata": {},
   "outputs": [
    {
     "name": "stdout",
     "output_type": "stream",
     "text": [
      "Something went wrong!\n"
     ]
    }
   ],
   "source": [
    "try:\n",
    "    # Simulate risky calculation: incorrect type operation\n",
    "    res = \"100\" / 20\n",
    "    \n",
    "except ArithmeticError:\n",
    "    print(\"Arithmetic problem.\")\n",
    "    \n",
    "except:\n",
    "    print(\"Something went wrong!\")"
   ]
  },
  {
   "cell_type": "code",
   "execution_count": 154,
   "id": "a1826e2b",
   "metadata": {},
   "outputs": [
    {
     "name": "stdout",
     "output_type": "stream",
     "text": [
      "Age cannot be negative.\n"
     ]
    }
   ],
   "source": [
    "def set(age):\n",
    "    if age < 0:\n",
    "        raise ValueError(\"Age cannot be negative.\")\n",
    "    print(f\"Age set to {age}\")\n",
    "\n",
    "try:\n",
    "    set(-5)\n",
    "except ValueError as e:\n",
    "    print(e)"
   ]
  },
  {
   "cell_type": "markdown",
   "id": "3949d043",
   "metadata": {},
   "source": [
    "## File Handling"
   ]
  },
  {
   "cell_type": "code",
   "execution_count": 157,
   "id": "6fdb7de7",
   "metadata": {},
   "outputs": [
    {
     "name": "stdout",
     "output_type": "stream",
     "text": [
      "Hello, World!\n"
     ]
    }
   ],
   "source": [
    "file = open(\"geeks.txt\", \"r\")\n",
    "content = file.read()\n",
    "print(content)\n",
    "file.close()"
   ]
  },
  {
   "cell_type": "code",
   "execution_count": 156,
   "id": "734a4aa4",
   "metadata": {},
   "outputs": [],
   "source": [
    "file = open(\"geeks.txt\", \"w\")\n",
    "file.write(\"Hello, World!\")\n",
    "file.close()"
   ]
  },
  {
   "cell_type": "code",
   "execution_count": 158,
   "id": "cb70f85e",
   "metadata": {},
   "outputs": [
    {
     "name": "stdout",
     "output_type": "stream",
     "text": [
      "Hello, World!\n"
     ]
    }
   ],
   "source": [
    "with open(\"geeks.txt\", \"r\") as file:\n",
    "    content = file.read()\n",
    "    print(content)"
   ]
  },
  {
   "cell_type": "code",
   "execution_count": 159,
   "id": "2507525f",
   "metadata": {},
   "outputs": [
    {
     "name": "stdout",
     "output_type": "stream",
     "text": [
      "Hello, World!\n"
     ]
    }
   ],
   "source": [
    "try:\n",
    "    file = open(\"geeks.txt\", \"r\")\n",
    "    content = file.read()\n",
    "    print(content)\n",
    "finally:\n",
    "    file.close()"
   ]
  },
  {
   "cell_type": "code",
   "execution_count": 1,
   "id": "47d6f83f",
   "metadata": {},
   "outputs": [
    {
     "ename": "FileNotFoundError",
     "evalue": "[Errno 2] No such file or directory: 'file.txt'",
     "output_type": "error",
     "traceback": [
      "\u001b[31m---------------------------------------------------------------------------\u001b[39m",
      "\u001b[31mFileNotFoundError\u001b[39m                         Traceback (most recent call last)",
      "\u001b[36mCell\u001b[39m\u001b[36m \u001b[39m\u001b[32mIn[1]\u001b[39m\u001b[32m, line 5\u001b[39m\n\u001b[32m      2\u001b[39m target_section = []\n\u001b[32m      3\u001b[39m capture = \u001b[38;5;28;01mFalse\u001b[39;00m\n\u001b[32m----> \u001b[39m\u001b[32m5\u001b[39m \u001b[38;5;28;01mwith\u001b[39;00m \u001b[38;5;28;43mopen\u001b[39;49m\u001b[43m(\u001b[49m\u001b[33;43m\"\u001b[39;49m\u001b[33;43mfile.txt\u001b[39;49m\u001b[33;43m\"\u001b[39;49m\u001b[43m,\u001b[49m\u001b[43m \u001b[49m\u001b[33;43m\"\u001b[39;49m\u001b[33;43mr\u001b[39;49m\u001b[33;43m\"\u001b[39;49m\u001b[43m)\u001b[49m \u001b[38;5;28;01mas\u001b[39;00m f:\n\u001b[32m      6\u001b[39m     \u001b[38;5;28;01mfor\u001b[39;00m line \u001b[38;5;129;01min\u001b[39;00m f:\n\u001b[32m      7\u001b[39m         \u001b[38;5;28;01mif\u001b[39;00m \u001b[33m\"\u001b[39m\u001b[33m### Section 2 ###\u001b[39m\u001b[33m\"\u001b[39m \u001b[38;5;129;01min\u001b[39;00m line:\n",
      "\u001b[36mFile \u001b[39m\u001b[32mc:\\Users\\nvngr\\AppData\\Local\\Programs\\Python\\Python313\\Lib\\site-packages\\IPython\\core\\interactiveshell.py:327\u001b[39m, in \u001b[36m_modified_open\u001b[39m\u001b[34m(file, *args, **kwargs)\u001b[39m\n\u001b[32m    320\u001b[39m \u001b[38;5;28;01mif\u001b[39;00m file \u001b[38;5;129;01min\u001b[39;00m {\u001b[32m0\u001b[39m, \u001b[32m1\u001b[39m, \u001b[32m2\u001b[39m}:\n\u001b[32m    321\u001b[39m     \u001b[38;5;28;01mraise\u001b[39;00m \u001b[38;5;167;01mValueError\u001b[39;00m(\n\u001b[32m    322\u001b[39m         \u001b[33mf\u001b[39m\u001b[33m\"\u001b[39m\u001b[33mIPython won\u001b[39m\u001b[33m'\u001b[39m\u001b[33mt let you open fd=\u001b[39m\u001b[38;5;132;01m{\u001b[39;00mfile\u001b[38;5;132;01m}\u001b[39;00m\u001b[33m by default \u001b[39m\u001b[33m\"\u001b[39m\n\u001b[32m    323\u001b[39m         \u001b[33m\"\u001b[39m\u001b[33mas it is likely to crash IPython. If you know what you are doing, \u001b[39m\u001b[33m\"\u001b[39m\n\u001b[32m    324\u001b[39m         \u001b[33m\"\u001b[39m\u001b[33myou can use builtins\u001b[39m\u001b[33m'\u001b[39m\u001b[33m open.\u001b[39m\u001b[33m\"\u001b[39m\n\u001b[32m    325\u001b[39m     )\n\u001b[32m--> \u001b[39m\u001b[32m327\u001b[39m \u001b[38;5;28;01mreturn\u001b[39;00m \u001b[43mio_open\u001b[49m\u001b[43m(\u001b[49m\u001b[43mfile\u001b[49m\u001b[43m,\u001b[49m\u001b[43m \u001b[49m\u001b[43m*\u001b[49m\u001b[43margs\u001b[49m\u001b[43m,\u001b[49m\u001b[43m \u001b[49m\u001b[43m*\u001b[49m\u001b[43m*\u001b[49m\u001b[43mkwargs\u001b[49m\u001b[43m)\u001b[49m\n",
      "\u001b[31mFileNotFoundError\u001b[39m: [Errno 2] No such file or directory: 'file.txt'"
     ]
    }
   ],
   "source": [
    "# To read a custom section only\n",
    "target_section = []\n",
    "capture = False\n",
    "\n",
    "with open(\"file.txt\", \"r\") as f:\n",
    "    for line in f:\n",
    "        if \"### Section 2 ###\" in line:\n",
    "            capture = True\n",
    "            continue\n",
    "        elif \"### End Section 2 ###\" in line:\n",
    "            break\n",
    "        if capture:\n",
    "            target_section.append(line)\n",
    "\n",
    "print(\"\".join(target_section))"
   ]
  },
  {
   "cell_type": "markdown",
   "id": "e9ab8a38",
   "metadata": {},
   "source": [
    "## Memory Management"
   ]
  },
  {
   "cell_type": "code",
   "execution_count": 160,
   "id": "1528fe11",
   "metadata": {},
   "outputs": [
    {
     "name": "stdout",
     "output_type": "stream",
     "text": [
      "x and y refer to the same object\n"
     ]
    }
   ],
   "source": [
    "x = 10\n",
    "y = x\n",
    "\n",
    "if id(x) == id(y):\n",
    "    print(\"x and y refer to the same object\")"
   ]
  },
  {
   "cell_type": "code",
   "execution_count": 161,
   "id": "a8046845",
   "metadata": {},
   "outputs": [
    {
     "name": "stdout",
     "output_type": "stream",
     "text": [
      "x and y do not refer to the same object\n"
     ]
    }
   ],
   "source": [
    "x = 10\n",
    "y = x\n",
    "x += 1\n",
    "\n",
    "if id(x) != id(y):\n",
    "    print(\"x and y do not refer to the same object\")"
   ]
  },
  {
   "cell_type": "code",
   "execution_count": 162,
   "id": "eaaa6b95",
   "metadata": {},
   "outputs": [],
   "source": [
    "def func(): \n",
    "      \n",
    "    # All these variables get memory  \n",
    "    # allocated on stack  \n",
    "    a = 20\n",
    "    b = [] \n",
    "    c = \"\""
   ]
  },
  {
   "cell_type": "code",
   "execution_count": 163,
   "id": "d051486f",
   "metadata": {},
   "outputs": [],
   "source": [
    "# This memory for 10 integers  \n",
    "# is allocated on heap.  \n",
    "a = [0]*10"
   ]
  },
  {
   "cell_type": "markdown",
   "id": "79e14724",
   "metadata": {},
   "source": [
    "## Python Regex"
   ]
  },
  {
   "cell_type": "code",
   "execution_count": 164,
   "id": "971207b0",
   "metadata": {},
   "outputs": [
    {
     "name": "stdout",
     "output_type": "stream",
     "text": [
      "Start Index: 34\n",
      "End Index: 40\n"
     ]
    }
   ],
   "source": [
    "# Importing the regex module\n",
    "import re\n",
    "\n",
    "s = 'GeeksforGeeks: A computer science portal for geeks'\n",
    "\n",
    "match = re.search(r'portal', s)\n",
    "\n",
    "print('Start Index:', match.start())\n",
    "print('End Index:', match.end())"
   ]
  },
  {
   "cell_type": "code",
   "execution_count": 165,
   "id": "52271f2c",
   "metadata": {},
   "outputs": [
    {
     "name": "stdout",
     "output_type": "stream",
     "text": [
      "['123456789', '987654321']\n"
     ]
    },
    {
     "name": "stderr",
     "output_type": "stream",
     "text": [
      "<>:4: SyntaxWarning: invalid escape sequence '\\d'\n",
      "<>:4: SyntaxWarning: invalid escape sequence '\\d'\n",
      "C:\\Users\\nvngr\\AppData\\Local\\Temp\\ipykernel_15076\\1919262441.py:4: SyntaxWarning: invalid escape sequence '\\d'\n",
      "  regex = '\\d+'\n"
     ]
    }
   ],
   "source": [
    "import re\n",
    "string = \"\"\"Hello my Number is 123456789 and\n",
    "            my friend's number is 987654321\"\"\"\n",
    "regex = '\\d+'\n",
    "\n",
    "match = re.findall(regex, string)\n",
    "print(match)"
   ]
  },
  {
   "cell_type": "code",
   "execution_count": 166,
   "id": "9b7e18f5",
   "metadata": {},
   "outputs": [
    {
     "name": "stdout",
     "output_type": "stream",
     "text": [
      "['e', 'a', 'd', 'b', 'e', 'a']\n"
     ]
    }
   ],
   "source": [
    "import re\n",
    "p = re.compile('[a-e]')\n",
    "\n",
    "print(p.findall(\"Aye, said Mr. Gibenson Stark\"))"
   ]
  },
  {
   "cell_type": "code",
   "execution_count": 167,
   "id": "096adcdf",
   "metadata": {},
   "outputs": [
    {
     "name": "stdout",
     "output_type": "stream",
     "text": [
      "['H', 'e', 's', 'a', 'i', 'd', 'i', 'n', 's', 'o', 'm', 'e', '_', 'l', 'a', 'n', 'g']\n",
      "['I', 'went', 'to', 'him', 'at', '11', 'A', 'M', 'he', 'said', 'in', 'some_language']\n",
      "[' ', ' ', '*', '*', '*', ' ', ' ', '.']\n"
     ]
    },
    {
     "name": "stderr",
     "output_type": "stream",
     "text": [
      "<>:3: SyntaxWarning: invalid escape sequence '\\w'\n",
      "<>:6: SyntaxWarning: invalid escape sequence '\\w'\n",
      "<>:10: SyntaxWarning: invalid escape sequence '\\W'\n",
      "<>:3: SyntaxWarning: invalid escape sequence '\\w'\n",
      "<>:6: SyntaxWarning: invalid escape sequence '\\w'\n",
      "<>:10: SyntaxWarning: invalid escape sequence '\\W'\n",
      "C:\\Users\\nvngr\\AppData\\Local\\Temp\\ipykernel_15076\\928066281.py:3: SyntaxWarning: invalid escape sequence '\\w'\n",
      "  p = re.compile('\\w')\n",
      "C:\\Users\\nvngr\\AppData\\Local\\Temp\\ipykernel_15076\\928066281.py:6: SyntaxWarning: invalid escape sequence '\\w'\n",
      "  p = re.compile('\\w+')\n",
      "C:\\Users\\nvngr\\AppData\\Local\\Temp\\ipykernel_15076\\928066281.py:10: SyntaxWarning: invalid escape sequence '\\W'\n",
      "  p = re.compile('\\W')\n"
     ]
    }
   ],
   "source": [
    "import re\n",
    "\n",
    "p = re.compile('\\w')\n",
    "print(p.findall(\"He said * in some_lang.\"))\n",
    "\n",
    "p = re.compile('\\w+')\n",
    "print(p.findall(\"I went to him at 11 A.M., he \\\n",
    "said *** in some_language.\"))\n",
    "\n",
    "p = re.compile('\\W')\n",
    "print(p.findall(\"he said *** in some_language.\"))"
   ]
  },
  {
   "cell_type": "code",
   "execution_count": 168,
   "id": "8b7eaf59",
   "metadata": {},
   "outputs": [
    {
     "name": "stdout",
     "output_type": "stream",
     "text": [
      "['ab', 'abb', 'a', 'abbb']\n"
     ]
    }
   ],
   "source": [
    "import re\n",
    "p = re.compile('ab*')\n",
    "print(p.findall(\"ababbaabbb\"))"
   ]
  },
  {
   "cell_type": "code",
   "execution_count": 169,
   "id": "54f1bc09",
   "metadata": {},
   "outputs": [
    {
     "name": "stdout",
     "output_type": "stream",
     "text": [
      "['Words', 'words', 'Words']\n",
      "['Word', 's', 'words', 'Words']\n",
      "['On', '12th', 'Jan', '2016', 'at', '11', '02', 'AM']\n",
      "['On ', 'th Jan ', ', at ', ':', ' AM']\n"
     ]
    },
    {
     "name": "stderr",
     "output_type": "stream",
     "text": [
      "<>:3: SyntaxWarning: invalid escape sequence '\\W'\n",
      "<>:4: SyntaxWarning: invalid escape sequence '\\W'\n",
      "<>:5: SyntaxWarning: invalid escape sequence '\\W'\n",
      "<>:6: SyntaxWarning: invalid escape sequence '\\d'\n",
      "<>:3: SyntaxWarning: invalid escape sequence '\\W'\n",
      "<>:4: SyntaxWarning: invalid escape sequence '\\W'\n",
      "<>:5: SyntaxWarning: invalid escape sequence '\\W'\n",
      "<>:6: SyntaxWarning: invalid escape sequence '\\d'\n",
      "C:\\Users\\nvngr\\AppData\\Local\\Temp\\ipykernel_15076\\3103990465.py:3: SyntaxWarning: invalid escape sequence '\\W'\n",
      "  print(split('\\W+', 'Words, words , Words'))\n",
      "C:\\Users\\nvngr\\AppData\\Local\\Temp\\ipykernel_15076\\3103990465.py:4: SyntaxWarning: invalid escape sequence '\\W'\n",
      "  print(split('\\W+', \"Word's words Words\"))\n",
      "C:\\Users\\nvngr\\AppData\\Local\\Temp\\ipykernel_15076\\3103990465.py:5: SyntaxWarning: invalid escape sequence '\\W'\n",
      "  print(split('\\W+', 'On 12th Jan 2016, at 11:02 AM'))\n",
      "C:\\Users\\nvngr\\AppData\\Local\\Temp\\ipykernel_15076\\3103990465.py:6: SyntaxWarning: invalid escape sequence '\\d'\n",
      "  print(split('\\d+', 'On 12th Jan 2016, at 11:02 AM'))\n"
     ]
    }
   ],
   "source": [
    "from re import split\n",
    "\n",
    "print(split('\\W+', 'Words, words , Words'))\n",
    "print(split('\\W+', \"Word's words Words\"))\n",
    "print(split('\\W+', 'On 12th Jan 2016, at 11:02 AM'))\n",
    "print(split('\\d+', 'On 12th Jan 2016, at 11:02 AM'))"
   ]
  },
  {
   "cell_type": "code",
   "execution_count": 170,
   "id": "3a4873e9",
   "metadata": {},
   "outputs": [
    {
     "name": "stdout",
     "output_type": "stream",
     "text": [
      "S~*ject has ~*er booked already\n",
      "S~*ject has Uber booked already\n",
      "S~*ject has Uber booked already\n",
      "Baked Beans & Spam\n"
     ]
    }
   ],
   "source": [
    "import re\n",
    "\n",
    "# Case-insensitive replacement of all 'ub'\n",
    "print(re.sub('ub', '~*', 'Subject has Uber booked already', flags=re.IGNORECASE))\n",
    "\n",
    "# Case-sensitive replacement of all 'ub'\n",
    "print(re.sub('ub', '~*', 'Subject has Uber booked already'))\n",
    "\n",
    "# Replace only the first 'ub', case-insensitive\n",
    "print(re.sub('ub', '~*', 'Subject has Uber booked already', count=1, flags=re.IGNORECASE))\n",
    "\n",
    "# Replace \"AND\" with \"&\", ignoring case\n",
    "print(re.sub(r'\\sAND\\s', ' & ', 'Baked Beans And Spam', flags=re.IGNORECASE))"
   ]
  },
  {
   "cell_type": "code",
   "execution_count": 171,
   "id": "532a2e4b",
   "metadata": {},
   "outputs": [
    {
     "name": "stdout",
     "output_type": "stream",
     "text": [
      "('S~*ject has Uber booked already', 1)\n",
      "('S~*ject has ~*er booked already', 2)\n",
      "2\n",
      "S~*ject has ~*er booked already\n"
     ]
    }
   ],
   "source": [
    "import re\n",
    "\n",
    "# Case-sensitive replacement\n",
    "print(re.subn('ub', '~*', 'Subject has Uber booked already'))\n",
    "\n",
    "# Case-insensitive replacement\n",
    "t = re.subn('ub', '~*', 'Subject has Uber booked already', flags=re.IGNORECASE)\n",
    "print(t)\n",
    "print(len(t))      # tuple length\n",
    "print(t[0])        # modified string"
   ]
  },
  {
   "cell_type": "code",
   "execution_count": 172,
   "id": "7f9b7815",
   "metadata": {},
   "outputs": [
    {
     "name": "stdout",
     "output_type": "stream",
     "text": [
      "This\\ is\\ Awesome\\ even\\ 1\\ AM\n",
      "I\\ Asked\\ what\\ is\\ this\\ \\[a\\-9\\],\\ he\\ said\\ \\\t\\ \\^WoW\n"
     ]
    }
   ],
   "source": [
    "import re\n",
    "\n",
    "print(re.escape(\"This is Awesome even 1 AM\"))\n",
    "print(re.escape(\"I Asked what is this [a-9], he said \\t ^WoW\"))"
   ]
  },
  {
   "cell_type": "code",
   "execution_count": 173,
   "id": "b3a476c8",
   "metadata": {},
   "outputs": [
    {
     "name": "stdout",
     "output_type": "stream",
     "text": [
      "Match at index 14, 21\n",
      "Full match: June 24\n",
      "Month: June\n",
      "Day: 24\n"
     ]
    }
   ],
   "source": [
    "import re\n",
    "\n",
    "regex = r\"([a-zA-Z]+) (\\d+)\"\n",
    "match = re.search(regex, \"I was born on June 24\")\n",
    "\n",
    "if match:\n",
    "    print(\"Match at index %s, %s\" % (match.start(), match.end()))\n",
    "    print(\"Full match:\", match.group(0))\n",
    "    print(\"Month:\", match.group(1))\n",
    "    print(\"Day:\", match.group(2))\n",
    "else:\n",
    "    print(\"The regex pattern does not match.\")"
   ]
  },
  {
   "cell_type": "code",
   "execution_count": 174,
   "id": "1a0290f3",
   "metadata": {},
   "outputs": [
    {
     "name": "stdout",
     "output_type": "stream",
     "text": [
      "<re.Match object; span=(0, 1), match='g'>\n",
      "<re.Match object; span=(5, 6), match='.'>\n"
     ]
    }
   ],
   "source": [
    "import re\n",
    "\n",
    "s = 'geeks.forgeeks'\n",
    "\n",
    "# without using \\\n",
    "match = re.search(r'.', s)\n",
    "print(match)\n",
    "\n",
    "# using \\\n",
    "match = re.search(r'\\.', s)\n",
    "print(match)"
   ]
  },
  {
   "cell_type": "code",
   "execution_count": 175,
   "id": "f1bcfe0c",
   "metadata": {},
   "outputs": [
    {
     "name": "stdout",
     "output_type": "stream",
     "text": [
      "['h', 'e', 'i', 'c', 'k', 'b', 'f', 'j', 'm', 'e', 'h', 'e', 'l', 'a', 'd', 'g']\n"
     ]
    }
   ],
   "source": [
    "import re\n",
    "\n",
    "string = \"The quick brown fox jumps over the lazy dog\"\n",
    "pattern = \"[a-m]\"\n",
    "result = re.findall(pattern, string)\n",
    "\n",
    "print(result)"
   ]
  },
  {
   "cell_type": "code",
   "execution_count": 176,
   "id": "b1230737",
   "metadata": {},
   "outputs": [
    {
     "name": "stdout",
     "output_type": "stream",
     "text": [
      "Matched: The quick brown fox\n",
      "Matched: The lazy dog\n",
      "Not matched: A quick brown fox\n"
     ]
    }
   ],
   "source": [
    "import re\n",
    "regex = r'^The'\n",
    "strings = ['The quick brown fox', 'The lazy dog', 'A quick brown fox']\n",
    "for string in strings:\n",
    "    if re.match(regex, string):\n",
    "        print(f'Matched: {string}')\n",
    "    else:\n",
    "        print(f'Not matched: {string}')"
   ]
  },
  {
   "cell_type": "code",
   "execution_count": 177,
   "id": "90378945",
   "metadata": {},
   "outputs": [
    {
     "name": "stdout",
     "output_type": "stream",
     "text": [
      "11\n",
      "14\n",
      "(11, 14)\n"
     ]
    }
   ],
   "source": [
    "import re\n",
    "\n",
    "s = \"Welcome to GeeksForGeeks\"\n",
    "\n",
    "res = re.search(r\"\\bGee\", s)\n",
    "\n",
    "print(res.start())\n",
    "print(res.end())\n",
    "print(res.span())"
   ]
  },
  {
   "cell_type": "code",
   "execution_count": 178,
   "id": "ad4927ca",
   "metadata": {},
   "outputs": [
    {
     "name": "stdout",
     "output_type": "stream",
     "text": [
      "Beg. of String: None\n",
      "Beg. of String: <re.Match object; span=(0, 4), match='Geek'>\n",
      "End of String: <re.Match object; span=(31, 36), match='Geeks'>\n"
     ]
    }
   ],
   "source": [
    "import re\n",
    "\n",
    "\n",
    "# Beginning of String\n",
    "match = re.search(r'^Geek', 'Campus Geek of the month')\n",
    "print('Beg. of String:', match)\n",
    "\n",
    "match = re.search(r'^Geek', 'Geek of the month')\n",
    "print('Beg. of String:', match)\n",
    "\n",
    "# End of String\n",
    "match = re.search(r'Geeks$', 'Compute science portal-GeeksforGeeks')\n",
    "print('End of String:', match)"
   ]
  },
  {
   "cell_type": "code",
   "execution_count": 179,
   "id": "9f71fa0a",
   "metadata": {},
   "outputs": [
    {
     "name": "stdout",
     "output_type": "stream",
     "text": [
      "Color <re.Match object; span=(0, 5), match='color'>\n",
      "Colour <re.Match object; span=(0, 6), match='colour'>\n"
     ]
    }
   ],
   "source": [
    "import re\n",
    "\n",
    "print('Color',re.search(r'colou?r', 'color')) \n",
    "print('Colour',re.search(r'colou?r', 'colour'))"
   ]
  },
  {
   "cell_type": "code",
   "execution_count": 180,
   "id": "dc6c7c82",
   "metadata": {},
   "outputs": [
    {
     "name": "stdout",
     "output_type": "stream",
     "text": [
      "1111222233334444\n"
     ]
    }
   ],
   "source": [
    "import re\n",
    "\n",
    "print(re.sub(r'([\\d]{4})-([\\d]{4})-([\\d]{4})-([\\d]{4})',r'\\1\\2\\3\\4',\n",
    "             '1111-2222-3333-4444'))"
   ]
  },
  {
   "cell_type": "markdown",
   "id": "1a7454b4",
   "metadata": {},
   "source": [
    "## Iterators in python"
   ]
  },
  {
   "cell_type": "code",
   "execution_count": 181,
   "id": "fed4a9f9",
   "metadata": {},
   "outputs": [
    {
     "name": "stdout",
     "output_type": "stream",
     "text": [
      "G\n",
      "F\n",
      "G\n"
     ]
    }
   ],
   "source": [
    "s = \"GFG\"\n",
    "it = iter(s)\n",
    "\n",
    "print(next(it))\n",
    "print(next(it))\n",
    "print(next(it))"
   ]
  },
  {
   "cell_type": "code",
   "execution_count": 182,
   "id": "a38d1419",
   "metadata": {},
   "outputs": [
    {
     "name": "stdout",
     "output_type": "stream",
     "text": [
      "2\n",
      "4\n",
      "6\n",
      "8\n",
      "10\n"
     ]
    }
   ],
   "source": [
    "class EvenNumbers:\n",
    "    def __iter__(self):\n",
    "        self.n = 2  # Start from the first even number\n",
    "        return self\n",
    "\n",
    "    def __next__(self):\n",
    "        x = self.n\n",
    "        self.n += 2  # Increment by 2 to get the next even number\n",
    "        return x\n",
    "\n",
    "# Create an instance of EvenNumbers\n",
    "even = EvenNumbers()\n",
    "it = iter(even)\n",
    "\n",
    "# Print the first five even numbers\n",
    "print(next(it))  \n",
    "print(next(it)) \n",
    "print(next(it))  \n",
    "print(next(it)) \n",
    "print(next(it))"
   ]
  },
  {
   "cell_type": "code",
   "execution_count": 183,
   "id": "44537633",
   "metadata": {},
   "outputs": [
    {
     "name": "stdout",
     "output_type": "stream",
     "text": [
      "100\n",
      "200\n",
      "300\n",
      "End of iteration\n"
     ]
    }
   ],
   "source": [
    "li = [100, 200, 300]\n",
    "it = iter(li)\n",
    "\n",
    "# Iterate until StopIteration is raised\n",
    "while True:\n",
    "    try:\n",
    "        print(next(it))\n",
    "    except StopIteration:\n",
    "        print(\"End of iteration\")\n",
    "        break"
   ]
  },
  {
   "cell_type": "markdown",
   "id": "ebcb6d69",
   "metadata": {},
   "source": [
    "## Generators in Python"
   ]
  },
  {
   "cell_type": "code",
   "execution_count": 184,
   "id": "98f22242",
   "metadata": {},
   "outputs": [
    {
     "name": "stdout",
     "output_type": "stream",
     "text": [
      "1\n",
      "2\n",
      "3\n",
      "4\n",
      "5\n"
     ]
    }
   ],
   "source": [
    "def fun(max):\n",
    "    cnt = 1\n",
    "    while cnt <= max:\n",
    "        yield cnt\n",
    "        cnt += 1\n",
    "\n",
    "ctr = fun(5)\n",
    "for n in ctr:\n",
    "    print(n)"
   ]
  },
  {
   "cell_type": "code",
   "execution_count": 185,
   "id": "a0ce4ac2",
   "metadata": {},
   "outputs": [
    {
     "name": "stdout",
     "output_type": "stream",
     "text": [
      "1\n",
      "2\n",
      "3\n"
     ]
    }
   ],
   "source": [
    "def fun():\n",
    "    yield 1            \n",
    "    yield 2            \n",
    "    yield 3            \n",
    " \n",
    "# Driver code to check above generator function\n",
    "for val in fun(): \n",
    "    print(val)"
   ]
  },
  {
   "cell_type": "code",
   "execution_count": 186,
   "id": "92d92be8",
   "metadata": {},
   "outputs": [
    {
     "name": "stdout",
     "output_type": "stream",
     "text": [
      "6\n"
     ]
    }
   ],
   "source": [
    "def fun():\n",
    "    return 1 + 2 + 3\n",
    "\n",
    "res = fun()\n",
    "print(res)"
   ]
  },
  {
   "cell_type": "code",
   "execution_count": 187,
   "id": "909174bc",
   "metadata": {},
   "outputs": [
    {
     "name": "stdout",
     "output_type": "stream",
     "text": [
      "1\n",
      "4\n",
      "9\n",
      "16\n",
      "25\n"
     ]
    }
   ],
   "source": [
    "sq = (x*x for x in range(1, 6))\n",
    "for i in sq:\n",
    "    print(i)"
   ]
  }
 ],
 "metadata": {
  "kernelspec": {
   "display_name": "Python 3",
   "language": "python",
   "name": "python3"
  },
  "language_info": {
   "codemirror_mode": {
    "name": "ipython",
    "version": 3
   },
   "file_extension": ".py",
   "mimetype": "text/x-python",
   "name": "python",
   "nbconvert_exporter": "python",
   "pygments_lexer": "ipython3",
   "version": "3.13.3"
  }
 },
 "nbformat": 4,
 "nbformat_minor": 5
}
