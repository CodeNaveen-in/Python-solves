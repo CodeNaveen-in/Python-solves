{
 "cells": [
  {
   "cell_type": "markdown",
   "metadata": {},
   "source": [
    "# Code from Web\n",
    "- Number guessing code with 12 chances from web.\n",
    "- Mode choices game"
   ]
  },
  {
   "cell_type": "code",
   "execution_count": 1,
   "metadata": {},
   "outputs": [],
   "source": [
    "# From GfG"
   ]
  },
  {
   "cell_type": "code",
   "execution_count": null,
   "metadata": {},
   "outputs": [],
   "source": [
    "import random\n",
    "\n",
    "name = input(\"What is your name? \")\n",
    "\n",
    "print(\"Good Luck ! \", name)\n",
    "\n",
    "words = ['rainbow', 'computer', 'science', 'programming',\n",
    "         'python', 'mathematics', 'player', 'condition',\n",
    "         'reverse', 'water', 'board', 'geeks']\n",
    "\n",
    "word = random.choice(words)\n",
    "\n",
    "print(\"Guess the characters\")\n",
    "\n",
    "guesses = ''\n",
    "turns = 12\n",
    "\n",
    "while turns > 0:\n",
    "\n",
    "    failed = 0\n",
    "\n",
    "    for char in word:\n",
    "\n",
    "        if char in guesses:\n",
    "            print(char, end=\" \")\n",
    "\n",
    "        else:\n",
    "            print(\"_\")\n",
    "            failed += 1\n",
    "\n",
    "    if failed == 0:\n",
    "        print(\"You Win\")\n",
    "        print(\"The word is: \", word)\n",
    "        break\n",
    "\n",
    "    print()\n",
    "    guess = input(\"guess a character:\")\n",
    "\n",
    "    guesses += guess\n",
    "\n",
    "    if guess not in word:\n",
    "\n",
    "        turns -= 1\n",
    "        print(\"Wrong\")\n",
    "        print(\"You have\", + turns, 'more guesses')\n",
    "\n",
    "        if turns == 0:\n",
    "            print(\"You Loose\")"
   ]
  },
  {
   "cell_type": "code",
   "execution_count": null,
   "metadata": {},
   "outputs": [],
   "source": [
    "import random\n",
    "\n",
    "#Guiding user\n",
    "print(\"Hello user, we are at word guessing game\")\n",
    "name=input(\"Name please ..  \")\n",
    "print(f\"{name} the aim is that you have to guess which was the word the computer has chosen..\")\n",
    "\n",
    "#Solution word choosing\n",
    "words=[\"Apple\", \"Bamboo\", \"Cat\", \"Domain\", \"Enigma\", \"Fable\", \"Grandiose\", \"Helicopter\"]\n",
    "sol_word = words[random.randint(0, len(words)-1)]\n",
    "\n",
    "#Hint presenting and game start\n",
    "print(f\"The Game has started : \\n Word is {sol_word[0]}\" + (len(sol_word)-1) * '*' )\n",
    "guess = ''\n",
    "\n",
    "#Guess and evaluation starts\n",
    "print(sol_word)\n",
    "for char in sol_word:\n",
    "    if guess in sol_word:\n",
    "        print (sol_word[0] + char)\n",
    "    else:\n",
    "        print (sol_word[0] + \"-\")\n",
    "    guess = input()"
   ]
  }
 ],
 "metadata": {
  "kernelspec": {
   "display_name": "base",
   "language": "python",
   "name": "python3"
  },
  "language_info": {
   "codemirror_mode": {
    "name": "ipython",
    "version": 3
   },
   "file_extension": ".py",
   "mimetype": "text/x-python",
   "name": "python",
   "nbconvert_exporter": "python",
   "pygments_lexer": "ipython3",
   "version": "3.11.7"
  }
 },
 "nbformat": 4,
 "nbformat_minor": 2
}
